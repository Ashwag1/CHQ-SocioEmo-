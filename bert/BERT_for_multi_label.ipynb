{
  "nbformat": 4,
  "nbformat_minor": 0,
  "metadata": {
    "colab": {
      "provenance": [],
      "collapsed_sections": []
    },
    "kernelspec": {
      "name": "python3",
      "display_name": "Python 3"
    },
    "language_info": {
      "name": "python"
    },
    "gpuClass": "standard",
    "accelerator": "GPU",
    "widgets": {
      "application/vnd.jupyter.widget-state+json": {
        "ecbf1e2c824b4accac06cc963285c9bd": {
          "model_module": "@jupyter-widgets/controls",
          "model_name": "HBoxModel",
          "model_module_version": "1.5.0",
          "state": {
            "_dom_classes": [],
            "_model_module": "@jupyter-widgets/controls",
            "_model_module_version": "1.5.0",
            "_model_name": "HBoxModel",
            "_view_count": null,
            "_view_module": "@jupyter-widgets/controls",
            "_view_module_version": "1.5.0",
            "_view_name": "HBoxView",
            "box_style": "",
            "children": [
              "IPY_MODEL_c70f01c62f524616b1bfef0b36b0017e",
              "IPY_MODEL_5b7f5a8a45f24368ade47c3dc38fdeef",
              "IPY_MODEL_015f6e8b0fea42e2a61b433be2bf9b9c"
            ],
            "layout": "IPY_MODEL_d01387eaf97c4ea68d20c424c68e0c64"
          }
        },
        "c70f01c62f524616b1bfef0b36b0017e": {
          "model_module": "@jupyter-widgets/controls",
          "model_name": "HTMLModel",
          "model_module_version": "1.5.0",
          "state": {
            "_dom_classes": [],
            "_model_module": "@jupyter-widgets/controls",
            "_model_module_version": "1.5.0",
            "_model_name": "HTMLModel",
            "_view_count": null,
            "_view_module": "@jupyter-widgets/controls",
            "_view_module_version": "1.5.0",
            "_view_name": "HTMLView",
            "description": "",
            "description_tooltip": null,
            "layout": "IPY_MODEL_df99871ca5cc4ba2a060f277cd8278ae",
            "placeholder": "​",
            "style": "IPY_MODEL_72fdaedf274940708746fd864297c5e8",
            "value": "Downloading: 100%"
          }
        },
        "5b7f5a8a45f24368ade47c3dc38fdeef": {
          "model_module": "@jupyter-widgets/controls",
          "model_name": "FloatProgressModel",
          "model_module_version": "1.5.0",
          "state": {
            "_dom_classes": [],
            "_model_module": "@jupyter-widgets/controls",
            "_model_module_version": "1.5.0",
            "_model_name": "FloatProgressModel",
            "_view_count": null,
            "_view_module": "@jupyter-widgets/controls",
            "_view_module_version": "1.5.0",
            "_view_name": "ProgressView",
            "bar_style": "success",
            "description": "",
            "description_tooltip": null,
            "layout": "IPY_MODEL_b232c6a407854b3bb0365305ad95ffe8",
            "max": 440473133,
            "min": 0,
            "orientation": "horizontal",
            "style": "IPY_MODEL_b87033cb8a0d4e04a04a7cf7f9f7327e",
            "value": 440473133
          }
        },
        "015f6e8b0fea42e2a61b433be2bf9b9c": {
          "model_module": "@jupyter-widgets/controls",
          "model_name": "HTMLModel",
          "model_module_version": "1.5.0",
          "state": {
            "_dom_classes": [],
            "_model_module": "@jupyter-widgets/controls",
            "_model_module_version": "1.5.0",
            "_model_name": "HTMLModel",
            "_view_count": null,
            "_view_module": "@jupyter-widgets/controls",
            "_view_module_version": "1.5.0",
            "_view_name": "HTMLView",
            "description": "",
            "description_tooltip": null,
            "layout": "IPY_MODEL_494b028b828f45a38b101f62ae4bbb7c",
            "placeholder": "​",
            "style": "IPY_MODEL_f311255100914d819dec246de854357e",
            "value": " 440M/440M [00:07&lt;00:00, 58.5MB/s]"
          }
        },
        "d01387eaf97c4ea68d20c424c68e0c64": {
          "model_module": "@jupyter-widgets/base",
          "model_name": "LayoutModel",
          "model_module_version": "1.2.0",
          "state": {
            "_model_module": "@jupyter-widgets/base",
            "_model_module_version": "1.2.0",
            "_model_name": "LayoutModel",
            "_view_count": null,
            "_view_module": "@jupyter-widgets/base",
            "_view_module_version": "1.2.0",
            "_view_name": "LayoutView",
            "align_content": null,
            "align_items": null,
            "align_self": null,
            "border": null,
            "bottom": null,
            "display": null,
            "flex": null,
            "flex_flow": null,
            "grid_area": null,
            "grid_auto_columns": null,
            "grid_auto_flow": null,
            "grid_auto_rows": null,
            "grid_column": null,
            "grid_gap": null,
            "grid_row": null,
            "grid_template_areas": null,
            "grid_template_columns": null,
            "grid_template_rows": null,
            "height": null,
            "justify_content": null,
            "justify_items": null,
            "left": null,
            "margin": null,
            "max_height": null,
            "max_width": null,
            "min_height": null,
            "min_width": null,
            "object_fit": null,
            "object_position": null,
            "order": null,
            "overflow": null,
            "overflow_x": null,
            "overflow_y": null,
            "padding": null,
            "right": null,
            "top": null,
            "visibility": null,
            "width": null
          }
        },
        "df99871ca5cc4ba2a060f277cd8278ae": {
          "model_module": "@jupyter-widgets/base",
          "model_name": "LayoutModel",
          "model_module_version": "1.2.0",
          "state": {
            "_model_module": "@jupyter-widgets/base",
            "_model_module_version": "1.2.0",
            "_model_name": "LayoutModel",
            "_view_count": null,
            "_view_module": "@jupyter-widgets/base",
            "_view_module_version": "1.2.0",
            "_view_name": "LayoutView",
            "align_content": null,
            "align_items": null,
            "align_self": null,
            "border": null,
            "bottom": null,
            "display": null,
            "flex": null,
            "flex_flow": null,
            "grid_area": null,
            "grid_auto_columns": null,
            "grid_auto_flow": null,
            "grid_auto_rows": null,
            "grid_column": null,
            "grid_gap": null,
            "grid_row": null,
            "grid_template_areas": null,
            "grid_template_columns": null,
            "grid_template_rows": null,
            "height": null,
            "justify_content": null,
            "justify_items": null,
            "left": null,
            "margin": null,
            "max_height": null,
            "max_width": null,
            "min_height": null,
            "min_width": null,
            "object_fit": null,
            "object_position": null,
            "order": null,
            "overflow": null,
            "overflow_x": null,
            "overflow_y": null,
            "padding": null,
            "right": null,
            "top": null,
            "visibility": null,
            "width": null
          }
        },
        "72fdaedf274940708746fd864297c5e8": {
          "model_module": "@jupyter-widgets/controls",
          "model_name": "DescriptionStyleModel",
          "model_module_version": "1.5.0",
          "state": {
            "_model_module": "@jupyter-widgets/controls",
            "_model_module_version": "1.5.0",
            "_model_name": "DescriptionStyleModel",
            "_view_count": null,
            "_view_module": "@jupyter-widgets/base",
            "_view_module_version": "1.2.0",
            "_view_name": "StyleView",
            "description_width": ""
          }
        },
        "b232c6a407854b3bb0365305ad95ffe8": {
          "model_module": "@jupyter-widgets/base",
          "model_name": "LayoutModel",
          "model_module_version": "1.2.0",
          "state": {
            "_model_module": "@jupyter-widgets/base",
            "_model_module_version": "1.2.0",
            "_model_name": "LayoutModel",
            "_view_count": null,
            "_view_module": "@jupyter-widgets/base",
            "_view_module_version": "1.2.0",
            "_view_name": "LayoutView",
            "align_content": null,
            "align_items": null,
            "align_self": null,
            "border": null,
            "bottom": null,
            "display": null,
            "flex": null,
            "flex_flow": null,
            "grid_area": null,
            "grid_auto_columns": null,
            "grid_auto_flow": null,
            "grid_auto_rows": null,
            "grid_column": null,
            "grid_gap": null,
            "grid_row": null,
            "grid_template_areas": null,
            "grid_template_columns": null,
            "grid_template_rows": null,
            "height": null,
            "justify_content": null,
            "justify_items": null,
            "left": null,
            "margin": null,
            "max_height": null,
            "max_width": null,
            "min_height": null,
            "min_width": null,
            "object_fit": null,
            "object_position": null,
            "order": null,
            "overflow": null,
            "overflow_x": null,
            "overflow_y": null,
            "padding": null,
            "right": null,
            "top": null,
            "visibility": null,
            "width": null
          }
        },
        "b87033cb8a0d4e04a04a7cf7f9f7327e": {
          "model_module": "@jupyter-widgets/controls",
          "model_name": "ProgressStyleModel",
          "model_module_version": "1.5.0",
          "state": {
            "_model_module": "@jupyter-widgets/controls",
            "_model_module_version": "1.5.0",
            "_model_name": "ProgressStyleModel",
            "_view_count": null,
            "_view_module": "@jupyter-widgets/base",
            "_view_module_version": "1.2.0",
            "_view_name": "StyleView",
            "bar_color": null,
            "description_width": ""
          }
        },
        "494b028b828f45a38b101f62ae4bbb7c": {
          "model_module": "@jupyter-widgets/base",
          "model_name": "LayoutModel",
          "model_module_version": "1.2.0",
          "state": {
            "_model_module": "@jupyter-widgets/base",
            "_model_module_version": "1.2.0",
            "_model_name": "LayoutModel",
            "_view_count": null,
            "_view_module": "@jupyter-widgets/base",
            "_view_module_version": "1.2.0",
            "_view_name": "LayoutView",
            "align_content": null,
            "align_items": null,
            "align_self": null,
            "border": null,
            "bottom": null,
            "display": null,
            "flex": null,
            "flex_flow": null,
            "grid_area": null,
            "grid_auto_columns": null,
            "grid_auto_flow": null,
            "grid_auto_rows": null,
            "grid_column": null,
            "grid_gap": null,
            "grid_row": null,
            "grid_template_areas": null,
            "grid_template_columns": null,
            "grid_template_rows": null,
            "height": null,
            "justify_content": null,
            "justify_items": null,
            "left": null,
            "margin": null,
            "max_height": null,
            "max_width": null,
            "min_height": null,
            "min_width": null,
            "object_fit": null,
            "object_position": null,
            "order": null,
            "overflow": null,
            "overflow_x": null,
            "overflow_y": null,
            "padding": null,
            "right": null,
            "top": null,
            "visibility": null,
            "width": null
          }
        },
        "f311255100914d819dec246de854357e": {
          "model_module": "@jupyter-widgets/controls",
          "model_name": "DescriptionStyleModel",
          "model_module_version": "1.5.0",
          "state": {
            "_model_module": "@jupyter-widgets/controls",
            "_model_module_version": "1.5.0",
            "_model_name": "DescriptionStyleModel",
            "_view_count": null,
            "_view_module": "@jupyter-widgets/base",
            "_view_module_version": "1.2.0",
            "_view_name": "StyleView",
            "description_width": ""
          }
        },
        "549e9b5efb6f4703bc1a09326004f2f5": {
          "model_module": "@jupyter-widgets/controls",
          "model_name": "HBoxModel",
          "model_module_version": "1.5.0",
          "state": {
            "_dom_classes": [],
            "_model_module": "@jupyter-widgets/controls",
            "_model_module_version": "1.5.0",
            "_model_name": "HBoxModel",
            "_view_count": null,
            "_view_module": "@jupyter-widgets/controls",
            "_view_module_version": "1.5.0",
            "_view_name": "HBoxView",
            "box_style": "",
            "children": [
              "IPY_MODEL_ae47dfb93028499d9d09abe58e2ad35c",
              "IPY_MODEL_12783f1f1fbe4751a8f3245f46660bed",
              "IPY_MODEL_4537023bc669411e9b550af11afc5baf"
            ],
            "layout": "IPY_MODEL_864e7f9a504c4cd8b5a831f89df6a472"
          }
        },
        "ae47dfb93028499d9d09abe58e2ad35c": {
          "model_module": "@jupyter-widgets/controls",
          "model_name": "HTMLModel",
          "model_module_version": "1.5.0",
          "state": {
            "_dom_classes": [],
            "_model_module": "@jupyter-widgets/controls",
            "_model_module_version": "1.5.0",
            "_model_name": "HTMLModel",
            "_view_count": null,
            "_view_module": "@jupyter-widgets/controls",
            "_view_module_version": "1.5.0",
            "_view_name": "HTMLView",
            "description": "",
            "description_tooltip": null,
            "layout": "IPY_MODEL_215938d41fdd4feca1485606c8d21058",
            "placeholder": "​",
            "style": "IPY_MODEL_709baf1ce78048a4bf7b964646fa1c92",
            "value": "Downloading: 100%"
          }
        },
        "12783f1f1fbe4751a8f3245f46660bed": {
          "model_module": "@jupyter-widgets/controls",
          "model_name": "FloatProgressModel",
          "model_module_version": "1.5.0",
          "state": {
            "_dom_classes": [],
            "_model_module": "@jupyter-widgets/controls",
            "_model_module_version": "1.5.0",
            "_model_name": "FloatProgressModel",
            "_view_count": null,
            "_view_module": "@jupyter-widgets/controls",
            "_view_module_version": "1.5.0",
            "_view_name": "ProgressView",
            "bar_style": "success",
            "description": "",
            "description_tooltip": null,
            "layout": "IPY_MODEL_510765f40ada4731b454fd91211f0f6f",
            "max": 231508,
            "min": 0,
            "orientation": "horizontal",
            "style": "IPY_MODEL_673c4696d8f249d4828f5510e1665393",
            "value": 231508
          }
        },
        "4537023bc669411e9b550af11afc5baf": {
          "model_module": "@jupyter-widgets/controls",
          "model_name": "HTMLModel",
          "model_module_version": "1.5.0",
          "state": {
            "_dom_classes": [],
            "_model_module": "@jupyter-widgets/controls",
            "_model_module_version": "1.5.0",
            "_model_name": "HTMLModel",
            "_view_count": null,
            "_view_module": "@jupyter-widgets/controls",
            "_view_module_version": "1.5.0",
            "_view_name": "HTMLView",
            "description": "",
            "description_tooltip": null,
            "layout": "IPY_MODEL_b6c571ceb5164451a6c115d56699e80a",
            "placeholder": "​",
            "style": "IPY_MODEL_acf9df49d7e94e87a688432f5afda895",
            "value": " 232k/232k [00:00&lt;00:00, 1.07MB/s]"
          }
        },
        "864e7f9a504c4cd8b5a831f89df6a472": {
          "model_module": "@jupyter-widgets/base",
          "model_name": "LayoutModel",
          "model_module_version": "1.2.0",
          "state": {
            "_model_module": "@jupyter-widgets/base",
            "_model_module_version": "1.2.0",
            "_model_name": "LayoutModel",
            "_view_count": null,
            "_view_module": "@jupyter-widgets/base",
            "_view_module_version": "1.2.0",
            "_view_name": "LayoutView",
            "align_content": null,
            "align_items": null,
            "align_self": null,
            "border": null,
            "bottom": null,
            "display": null,
            "flex": null,
            "flex_flow": null,
            "grid_area": null,
            "grid_auto_columns": null,
            "grid_auto_flow": null,
            "grid_auto_rows": null,
            "grid_column": null,
            "grid_gap": null,
            "grid_row": null,
            "grid_template_areas": null,
            "grid_template_columns": null,
            "grid_template_rows": null,
            "height": null,
            "justify_content": null,
            "justify_items": null,
            "left": null,
            "margin": null,
            "max_height": null,
            "max_width": null,
            "min_height": null,
            "min_width": null,
            "object_fit": null,
            "object_position": null,
            "order": null,
            "overflow": null,
            "overflow_x": null,
            "overflow_y": null,
            "padding": null,
            "right": null,
            "top": null,
            "visibility": null,
            "width": null
          }
        },
        "215938d41fdd4feca1485606c8d21058": {
          "model_module": "@jupyter-widgets/base",
          "model_name": "LayoutModel",
          "model_module_version": "1.2.0",
          "state": {
            "_model_module": "@jupyter-widgets/base",
            "_model_module_version": "1.2.0",
            "_model_name": "LayoutModel",
            "_view_count": null,
            "_view_module": "@jupyter-widgets/base",
            "_view_module_version": "1.2.0",
            "_view_name": "LayoutView",
            "align_content": null,
            "align_items": null,
            "align_self": null,
            "border": null,
            "bottom": null,
            "display": null,
            "flex": null,
            "flex_flow": null,
            "grid_area": null,
            "grid_auto_columns": null,
            "grid_auto_flow": null,
            "grid_auto_rows": null,
            "grid_column": null,
            "grid_gap": null,
            "grid_row": null,
            "grid_template_areas": null,
            "grid_template_columns": null,
            "grid_template_rows": null,
            "height": null,
            "justify_content": null,
            "justify_items": null,
            "left": null,
            "margin": null,
            "max_height": null,
            "max_width": null,
            "min_height": null,
            "min_width": null,
            "object_fit": null,
            "object_position": null,
            "order": null,
            "overflow": null,
            "overflow_x": null,
            "overflow_y": null,
            "padding": null,
            "right": null,
            "top": null,
            "visibility": null,
            "width": null
          }
        },
        "709baf1ce78048a4bf7b964646fa1c92": {
          "model_module": "@jupyter-widgets/controls",
          "model_name": "DescriptionStyleModel",
          "model_module_version": "1.5.0",
          "state": {
            "_model_module": "@jupyter-widgets/controls",
            "_model_module_version": "1.5.0",
            "_model_name": "DescriptionStyleModel",
            "_view_count": null,
            "_view_module": "@jupyter-widgets/base",
            "_view_module_version": "1.2.0",
            "_view_name": "StyleView",
            "description_width": ""
          }
        },
        "510765f40ada4731b454fd91211f0f6f": {
          "model_module": "@jupyter-widgets/base",
          "model_name": "LayoutModel",
          "model_module_version": "1.2.0",
          "state": {
            "_model_module": "@jupyter-widgets/base",
            "_model_module_version": "1.2.0",
            "_model_name": "LayoutModel",
            "_view_count": null,
            "_view_module": "@jupyter-widgets/base",
            "_view_module_version": "1.2.0",
            "_view_name": "LayoutView",
            "align_content": null,
            "align_items": null,
            "align_self": null,
            "border": null,
            "bottom": null,
            "display": null,
            "flex": null,
            "flex_flow": null,
            "grid_area": null,
            "grid_auto_columns": null,
            "grid_auto_flow": null,
            "grid_auto_rows": null,
            "grid_column": null,
            "grid_gap": null,
            "grid_row": null,
            "grid_template_areas": null,
            "grid_template_columns": null,
            "grid_template_rows": null,
            "height": null,
            "justify_content": null,
            "justify_items": null,
            "left": null,
            "margin": null,
            "max_height": null,
            "max_width": null,
            "min_height": null,
            "min_width": null,
            "object_fit": null,
            "object_position": null,
            "order": null,
            "overflow": null,
            "overflow_x": null,
            "overflow_y": null,
            "padding": null,
            "right": null,
            "top": null,
            "visibility": null,
            "width": null
          }
        },
        "673c4696d8f249d4828f5510e1665393": {
          "model_module": "@jupyter-widgets/controls",
          "model_name": "ProgressStyleModel",
          "model_module_version": "1.5.0",
          "state": {
            "_model_module": "@jupyter-widgets/controls",
            "_model_module_version": "1.5.0",
            "_model_name": "ProgressStyleModel",
            "_view_count": null,
            "_view_module": "@jupyter-widgets/base",
            "_view_module_version": "1.2.0",
            "_view_name": "StyleView",
            "bar_color": null,
            "description_width": ""
          }
        },
        "b6c571ceb5164451a6c115d56699e80a": {
          "model_module": "@jupyter-widgets/base",
          "model_name": "LayoutModel",
          "model_module_version": "1.2.0",
          "state": {
            "_model_module": "@jupyter-widgets/base",
            "_model_module_version": "1.2.0",
            "_model_name": "LayoutModel",
            "_view_count": null,
            "_view_module": "@jupyter-widgets/base",
            "_view_module_version": "1.2.0",
            "_view_name": "LayoutView",
            "align_content": null,
            "align_items": null,
            "align_self": null,
            "border": null,
            "bottom": null,
            "display": null,
            "flex": null,
            "flex_flow": null,
            "grid_area": null,
            "grid_auto_columns": null,
            "grid_auto_flow": null,
            "grid_auto_rows": null,
            "grid_column": null,
            "grid_gap": null,
            "grid_row": null,
            "grid_template_areas": null,
            "grid_template_columns": null,
            "grid_template_rows": null,
            "height": null,
            "justify_content": null,
            "justify_items": null,
            "left": null,
            "margin": null,
            "max_height": null,
            "max_width": null,
            "min_height": null,
            "min_width": null,
            "object_fit": null,
            "object_position": null,
            "order": null,
            "overflow": null,
            "overflow_x": null,
            "overflow_y": null,
            "padding": null,
            "right": null,
            "top": null,
            "visibility": null,
            "width": null
          }
        },
        "acf9df49d7e94e87a688432f5afda895": {
          "model_module": "@jupyter-widgets/controls",
          "model_name": "DescriptionStyleModel",
          "model_module_version": "1.5.0",
          "state": {
            "_model_module": "@jupyter-widgets/controls",
            "_model_module_version": "1.5.0",
            "_model_name": "DescriptionStyleModel",
            "_view_count": null,
            "_view_module": "@jupyter-widgets/base",
            "_view_module_version": "1.2.0",
            "_view_name": "StyleView",
            "description_width": ""
          }
        },
        "0d20cd4759744c05be2845ad0ec56a40": {
          "model_module": "@jupyter-widgets/controls",
          "model_name": "HBoxModel",
          "model_module_version": "1.5.0",
          "state": {
            "_dom_classes": [],
            "_model_module": "@jupyter-widgets/controls",
            "_model_module_version": "1.5.0",
            "_model_name": "HBoxModel",
            "_view_count": null,
            "_view_module": "@jupyter-widgets/controls",
            "_view_module_version": "1.5.0",
            "_view_name": "HBoxView",
            "box_style": "",
            "children": [
              "IPY_MODEL_6889198701744733b8bbef608397825b",
              "IPY_MODEL_c06ab8681abe4cf3b7523f1810b78b03",
              "IPY_MODEL_bbe95649c990493b8813368a2c8a34f0"
            ],
            "layout": "IPY_MODEL_012e38f5044c47dfa5a0ef920cd93467"
          }
        },
        "6889198701744733b8bbef608397825b": {
          "model_module": "@jupyter-widgets/controls",
          "model_name": "HTMLModel",
          "model_module_version": "1.5.0",
          "state": {
            "_dom_classes": [],
            "_model_module": "@jupyter-widgets/controls",
            "_model_module_version": "1.5.0",
            "_model_name": "HTMLModel",
            "_view_count": null,
            "_view_module": "@jupyter-widgets/controls",
            "_view_module_version": "1.5.0",
            "_view_name": "HTMLView",
            "description": "",
            "description_tooltip": null,
            "layout": "IPY_MODEL_4064896b3267409e9bd4f5ddb6933a0a",
            "placeholder": "​",
            "style": "IPY_MODEL_ef1476230ff4480eb5850eb85d7058d0",
            "value": "Downloading: 100%"
          }
        },
        "c06ab8681abe4cf3b7523f1810b78b03": {
          "model_module": "@jupyter-widgets/controls",
          "model_name": "FloatProgressModel",
          "model_module_version": "1.5.0",
          "state": {
            "_dom_classes": [],
            "_model_module": "@jupyter-widgets/controls",
            "_model_module_version": "1.5.0",
            "_model_name": "FloatProgressModel",
            "_view_count": null,
            "_view_module": "@jupyter-widgets/controls",
            "_view_module_version": "1.5.0",
            "_view_name": "ProgressView",
            "bar_style": "success",
            "description": "",
            "description_tooltip": null,
            "layout": "IPY_MODEL_46e4036f53534b5dbc35084bb9037ac5",
            "max": 28,
            "min": 0,
            "orientation": "horizontal",
            "style": "IPY_MODEL_2728a58feade4f1e815de6c5b38cc522",
            "value": 28
          }
        },
        "bbe95649c990493b8813368a2c8a34f0": {
          "model_module": "@jupyter-widgets/controls",
          "model_name": "HTMLModel",
          "model_module_version": "1.5.0",
          "state": {
            "_dom_classes": [],
            "_model_module": "@jupyter-widgets/controls",
            "_model_module_version": "1.5.0",
            "_model_name": "HTMLModel",
            "_view_count": null,
            "_view_module": "@jupyter-widgets/controls",
            "_view_module_version": "1.5.0",
            "_view_name": "HTMLView",
            "description": "",
            "description_tooltip": null,
            "layout": "IPY_MODEL_b914969612e14905a938172d733d3a72",
            "placeholder": "​",
            "style": "IPY_MODEL_51744710c58a43f689f47ab96ab31b0f",
            "value": " 28.0/28.0 [00:00&lt;00:00, 929B/s]"
          }
        },
        "012e38f5044c47dfa5a0ef920cd93467": {
          "model_module": "@jupyter-widgets/base",
          "model_name": "LayoutModel",
          "model_module_version": "1.2.0",
          "state": {
            "_model_module": "@jupyter-widgets/base",
            "_model_module_version": "1.2.0",
            "_model_name": "LayoutModel",
            "_view_count": null,
            "_view_module": "@jupyter-widgets/base",
            "_view_module_version": "1.2.0",
            "_view_name": "LayoutView",
            "align_content": null,
            "align_items": null,
            "align_self": null,
            "border": null,
            "bottom": null,
            "display": null,
            "flex": null,
            "flex_flow": null,
            "grid_area": null,
            "grid_auto_columns": null,
            "grid_auto_flow": null,
            "grid_auto_rows": null,
            "grid_column": null,
            "grid_gap": null,
            "grid_row": null,
            "grid_template_areas": null,
            "grid_template_columns": null,
            "grid_template_rows": null,
            "height": null,
            "justify_content": null,
            "justify_items": null,
            "left": null,
            "margin": null,
            "max_height": null,
            "max_width": null,
            "min_height": null,
            "min_width": null,
            "object_fit": null,
            "object_position": null,
            "order": null,
            "overflow": null,
            "overflow_x": null,
            "overflow_y": null,
            "padding": null,
            "right": null,
            "top": null,
            "visibility": null,
            "width": null
          }
        },
        "4064896b3267409e9bd4f5ddb6933a0a": {
          "model_module": "@jupyter-widgets/base",
          "model_name": "LayoutModel",
          "model_module_version": "1.2.0",
          "state": {
            "_model_module": "@jupyter-widgets/base",
            "_model_module_version": "1.2.0",
            "_model_name": "LayoutModel",
            "_view_count": null,
            "_view_module": "@jupyter-widgets/base",
            "_view_module_version": "1.2.0",
            "_view_name": "LayoutView",
            "align_content": null,
            "align_items": null,
            "align_self": null,
            "border": null,
            "bottom": null,
            "display": null,
            "flex": null,
            "flex_flow": null,
            "grid_area": null,
            "grid_auto_columns": null,
            "grid_auto_flow": null,
            "grid_auto_rows": null,
            "grid_column": null,
            "grid_gap": null,
            "grid_row": null,
            "grid_template_areas": null,
            "grid_template_columns": null,
            "grid_template_rows": null,
            "height": null,
            "justify_content": null,
            "justify_items": null,
            "left": null,
            "margin": null,
            "max_height": null,
            "max_width": null,
            "min_height": null,
            "min_width": null,
            "object_fit": null,
            "object_position": null,
            "order": null,
            "overflow": null,
            "overflow_x": null,
            "overflow_y": null,
            "padding": null,
            "right": null,
            "top": null,
            "visibility": null,
            "width": null
          }
        },
        "ef1476230ff4480eb5850eb85d7058d0": {
          "model_module": "@jupyter-widgets/controls",
          "model_name": "DescriptionStyleModel",
          "model_module_version": "1.5.0",
          "state": {
            "_model_module": "@jupyter-widgets/controls",
            "_model_module_version": "1.5.0",
            "_model_name": "DescriptionStyleModel",
            "_view_count": null,
            "_view_module": "@jupyter-widgets/base",
            "_view_module_version": "1.2.0",
            "_view_name": "StyleView",
            "description_width": ""
          }
        },
        "46e4036f53534b5dbc35084bb9037ac5": {
          "model_module": "@jupyter-widgets/base",
          "model_name": "LayoutModel",
          "model_module_version": "1.2.0",
          "state": {
            "_model_module": "@jupyter-widgets/base",
            "_model_module_version": "1.2.0",
            "_model_name": "LayoutModel",
            "_view_count": null,
            "_view_module": "@jupyter-widgets/base",
            "_view_module_version": "1.2.0",
            "_view_name": "LayoutView",
            "align_content": null,
            "align_items": null,
            "align_self": null,
            "border": null,
            "bottom": null,
            "display": null,
            "flex": null,
            "flex_flow": null,
            "grid_area": null,
            "grid_auto_columns": null,
            "grid_auto_flow": null,
            "grid_auto_rows": null,
            "grid_column": null,
            "grid_gap": null,
            "grid_row": null,
            "grid_template_areas": null,
            "grid_template_columns": null,
            "grid_template_rows": null,
            "height": null,
            "justify_content": null,
            "justify_items": null,
            "left": null,
            "margin": null,
            "max_height": null,
            "max_width": null,
            "min_height": null,
            "min_width": null,
            "object_fit": null,
            "object_position": null,
            "order": null,
            "overflow": null,
            "overflow_x": null,
            "overflow_y": null,
            "padding": null,
            "right": null,
            "top": null,
            "visibility": null,
            "width": null
          }
        },
        "2728a58feade4f1e815de6c5b38cc522": {
          "model_module": "@jupyter-widgets/controls",
          "model_name": "ProgressStyleModel",
          "model_module_version": "1.5.0",
          "state": {
            "_model_module": "@jupyter-widgets/controls",
            "_model_module_version": "1.5.0",
            "_model_name": "ProgressStyleModel",
            "_view_count": null,
            "_view_module": "@jupyter-widgets/base",
            "_view_module_version": "1.2.0",
            "_view_name": "StyleView",
            "bar_color": null,
            "description_width": ""
          }
        },
        "b914969612e14905a938172d733d3a72": {
          "model_module": "@jupyter-widgets/base",
          "model_name": "LayoutModel",
          "model_module_version": "1.2.0",
          "state": {
            "_model_module": "@jupyter-widgets/base",
            "_model_module_version": "1.2.0",
            "_model_name": "LayoutModel",
            "_view_count": null,
            "_view_module": "@jupyter-widgets/base",
            "_view_module_version": "1.2.0",
            "_view_name": "LayoutView",
            "align_content": null,
            "align_items": null,
            "align_self": null,
            "border": null,
            "bottom": null,
            "display": null,
            "flex": null,
            "flex_flow": null,
            "grid_area": null,
            "grid_auto_columns": null,
            "grid_auto_flow": null,
            "grid_auto_rows": null,
            "grid_column": null,
            "grid_gap": null,
            "grid_row": null,
            "grid_template_areas": null,
            "grid_template_columns": null,
            "grid_template_rows": null,
            "height": null,
            "justify_content": null,
            "justify_items": null,
            "left": null,
            "margin": null,
            "max_height": null,
            "max_width": null,
            "min_height": null,
            "min_width": null,
            "object_fit": null,
            "object_position": null,
            "order": null,
            "overflow": null,
            "overflow_x": null,
            "overflow_y": null,
            "padding": null,
            "right": null,
            "top": null,
            "visibility": null,
            "width": null
          }
        },
        "51744710c58a43f689f47ab96ab31b0f": {
          "model_module": "@jupyter-widgets/controls",
          "model_name": "DescriptionStyleModel",
          "model_module_version": "1.5.0",
          "state": {
            "_model_module": "@jupyter-widgets/controls",
            "_model_module_version": "1.5.0",
            "_model_name": "DescriptionStyleModel",
            "_view_count": null,
            "_view_module": "@jupyter-widgets/base",
            "_view_module_version": "1.2.0",
            "_view_name": "StyleView",
            "description_width": ""
          }
        },
        "31b9834a92a84217a70f292094124ef9": {
          "model_module": "@jupyter-widgets/controls",
          "model_name": "HBoxModel",
          "model_module_version": "1.5.0",
          "state": {
            "_dom_classes": [],
            "_model_module": "@jupyter-widgets/controls",
            "_model_module_version": "1.5.0",
            "_model_name": "HBoxModel",
            "_view_count": null,
            "_view_module": "@jupyter-widgets/controls",
            "_view_module_version": "1.5.0",
            "_view_name": "HBoxView",
            "box_style": "",
            "children": [
              "IPY_MODEL_b809363ba7334896b0fbc20f4a006d89",
              "IPY_MODEL_8b568bd0cdd5480ca4f4d40513cca464",
              "IPY_MODEL_755b0f01e51b40269a2aaf2f75d40d31"
            ],
            "layout": "IPY_MODEL_6487745996874481820d06cf3a8c9262"
          }
        },
        "b809363ba7334896b0fbc20f4a006d89": {
          "model_module": "@jupyter-widgets/controls",
          "model_name": "HTMLModel",
          "model_module_version": "1.5.0",
          "state": {
            "_dom_classes": [],
            "_model_module": "@jupyter-widgets/controls",
            "_model_module_version": "1.5.0",
            "_model_name": "HTMLModel",
            "_view_count": null,
            "_view_module": "@jupyter-widgets/controls",
            "_view_module_version": "1.5.0",
            "_view_name": "HTMLView",
            "description": "",
            "description_tooltip": null,
            "layout": "IPY_MODEL_150e1922d7e143d6a6d25400cd3175c8",
            "placeholder": "​",
            "style": "IPY_MODEL_d61a41a846ae4a039dd3207fe33c6414",
            "value": "Downloading: 100%"
          }
        },
        "8b568bd0cdd5480ca4f4d40513cca464": {
          "model_module": "@jupyter-widgets/controls",
          "model_name": "FloatProgressModel",
          "model_module_version": "1.5.0",
          "state": {
            "_dom_classes": [],
            "_model_module": "@jupyter-widgets/controls",
            "_model_module_version": "1.5.0",
            "_model_name": "FloatProgressModel",
            "_view_count": null,
            "_view_module": "@jupyter-widgets/controls",
            "_view_module_version": "1.5.0",
            "_view_name": "ProgressView",
            "bar_style": "success",
            "description": "",
            "description_tooltip": null,
            "layout": "IPY_MODEL_103ff30633464607b484bc6a0dd88103",
            "max": 570,
            "min": 0,
            "orientation": "horizontal",
            "style": "IPY_MODEL_10f6eb7510554ee9840ff25b274569e6",
            "value": 570
          }
        },
        "755b0f01e51b40269a2aaf2f75d40d31": {
          "model_module": "@jupyter-widgets/controls",
          "model_name": "HTMLModel",
          "model_module_version": "1.5.0",
          "state": {
            "_dom_classes": [],
            "_model_module": "@jupyter-widgets/controls",
            "_model_module_version": "1.5.0",
            "_model_name": "HTMLModel",
            "_view_count": null,
            "_view_module": "@jupyter-widgets/controls",
            "_view_module_version": "1.5.0",
            "_view_name": "HTMLView",
            "description": "",
            "description_tooltip": null,
            "layout": "IPY_MODEL_4fa660a172654797b950f58b2e79e670",
            "placeholder": "​",
            "style": "IPY_MODEL_fa39bb7d6f0d4a719065843f6b9ae062",
            "value": " 570/570 [00:00&lt;00:00, 18.9kB/s]"
          }
        },
        "6487745996874481820d06cf3a8c9262": {
          "model_module": "@jupyter-widgets/base",
          "model_name": "LayoutModel",
          "model_module_version": "1.2.0",
          "state": {
            "_model_module": "@jupyter-widgets/base",
            "_model_module_version": "1.2.0",
            "_model_name": "LayoutModel",
            "_view_count": null,
            "_view_module": "@jupyter-widgets/base",
            "_view_module_version": "1.2.0",
            "_view_name": "LayoutView",
            "align_content": null,
            "align_items": null,
            "align_self": null,
            "border": null,
            "bottom": null,
            "display": null,
            "flex": null,
            "flex_flow": null,
            "grid_area": null,
            "grid_auto_columns": null,
            "grid_auto_flow": null,
            "grid_auto_rows": null,
            "grid_column": null,
            "grid_gap": null,
            "grid_row": null,
            "grid_template_areas": null,
            "grid_template_columns": null,
            "grid_template_rows": null,
            "height": null,
            "justify_content": null,
            "justify_items": null,
            "left": null,
            "margin": null,
            "max_height": null,
            "max_width": null,
            "min_height": null,
            "min_width": null,
            "object_fit": null,
            "object_position": null,
            "order": null,
            "overflow": null,
            "overflow_x": null,
            "overflow_y": null,
            "padding": null,
            "right": null,
            "top": null,
            "visibility": null,
            "width": null
          }
        },
        "150e1922d7e143d6a6d25400cd3175c8": {
          "model_module": "@jupyter-widgets/base",
          "model_name": "LayoutModel",
          "model_module_version": "1.2.0",
          "state": {
            "_model_module": "@jupyter-widgets/base",
            "_model_module_version": "1.2.0",
            "_model_name": "LayoutModel",
            "_view_count": null,
            "_view_module": "@jupyter-widgets/base",
            "_view_module_version": "1.2.0",
            "_view_name": "LayoutView",
            "align_content": null,
            "align_items": null,
            "align_self": null,
            "border": null,
            "bottom": null,
            "display": null,
            "flex": null,
            "flex_flow": null,
            "grid_area": null,
            "grid_auto_columns": null,
            "grid_auto_flow": null,
            "grid_auto_rows": null,
            "grid_column": null,
            "grid_gap": null,
            "grid_row": null,
            "grid_template_areas": null,
            "grid_template_columns": null,
            "grid_template_rows": null,
            "height": null,
            "justify_content": null,
            "justify_items": null,
            "left": null,
            "margin": null,
            "max_height": null,
            "max_width": null,
            "min_height": null,
            "min_width": null,
            "object_fit": null,
            "object_position": null,
            "order": null,
            "overflow": null,
            "overflow_x": null,
            "overflow_y": null,
            "padding": null,
            "right": null,
            "top": null,
            "visibility": null,
            "width": null
          }
        },
        "d61a41a846ae4a039dd3207fe33c6414": {
          "model_module": "@jupyter-widgets/controls",
          "model_name": "DescriptionStyleModel",
          "model_module_version": "1.5.0",
          "state": {
            "_model_module": "@jupyter-widgets/controls",
            "_model_module_version": "1.5.0",
            "_model_name": "DescriptionStyleModel",
            "_view_count": null,
            "_view_module": "@jupyter-widgets/base",
            "_view_module_version": "1.2.0",
            "_view_name": "StyleView",
            "description_width": ""
          }
        },
        "103ff30633464607b484bc6a0dd88103": {
          "model_module": "@jupyter-widgets/base",
          "model_name": "LayoutModel",
          "model_module_version": "1.2.0",
          "state": {
            "_model_module": "@jupyter-widgets/base",
            "_model_module_version": "1.2.0",
            "_model_name": "LayoutModel",
            "_view_count": null,
            "_view_module": "@jupyter-widgets/base",
            "_view_module_version": "1.2.0",
            "_view_name": "LayoutView",
            "align_content": null,
            "align_items": null,
            "align_self": null,
            "border": null,
            "bottom": null,
            "display": null,
            "flex": null,
            "flex_flow": null,
            "grid_area": null,
            "grid_auto_columns": null,
            "grid_auto_flow": null,
            "grid_auto_rows": null,
            "grid_column": null,
            "grid_gap": null,
            "grid_row": null,
            "grid_template_areas": null,
            "grid_template_columns": null,
            "grid_template_rows": null,
            "height": null,
            "justify_content": null,
            "justify_items": null,
            "left": null,
            "margin": null,
            "max_height": null,
            "max_width": null,
            "min_height": null,
            "min_width": null,
            "object_fit": null,
            "object_position": null,
            "order": null,
            "overflow": null,
            "overflow_x": null,
            "overflow_y": null,
            "padding": null,
            "right": null,
            "top": null,
            "visibility": null,
            "width": null
          }
        },
        "10f6eb7510554ee9840ff25b274569e6": {
          "model_module": "@jupyter-widgets/controls",
          "model_name": "ProgressStyleModel",
          "model_module_version": "1.5.0",
          "state": {
            "_model_module": "@jupyter-widgets/controls",
            "_model_module_version": "1.5.0",
            "_model_name": "ProgressStyleModel",
            "_view_count": null,
            "_view_module": "@jupyter-widgets/base",
            "_view_module_version": "1.2.0",
            "_view_name": "StyleView",
            "bar_color": null,
            "description_width": ""
          }
        },
        "4fa660a172654797b950f58b2e79e670": {
          "model_module": "@jupyter-widgets/base",
          "model_name": "LayoutModel",
          "model_module_version": "1.2.0",
          "state": {
            "_model_module": "@jupyter-widgets/base",
            "_model_module_version": "1.2.0",
            "_model_name": "LayoutModel",
            "_view_count": null,
            "_view_module": "@jupyter-widgets/base",
            "_view_module_version": "1.2.0",
            "_view_name": "LayoutView",
            "align_content": null,
            "align_items": null,
            "align_self": null,
            "border": null,
            "bottom": null,
            "display": null,
            "flex": null,
            "flex_flow": null,
            "grid_area": null,
            "grid_auto_columns": null,
            "grid_auto_flow": null,
            "grid_auto_rows": null,
            "grid_column": null,
            "grid_gap": null,
            "grid_row": null,
            "grid_template_areas": null,
            "grid_template_columns": null,
            "grid_template_rows": null,
            "height": null,
            "justify_content": null,
            "justify_items": null,
            "left": null,
            "margin": null,
            "max_height": null,
            "max_width": null,
            "min_height": null,
            "min_width": null,
            "object_fit": null,
            "object_position": null,
            "order": null,
            "overflow": null,
            "overflow_x": null,
            "overflow_y": null,
            "padding": null,
            "right": null,
            "top": null,
            "visibility": null,
            "width": null
          }
        },
        "fa39bb7d6f0d4a719065843f6b9ae062": {
          "model_module": "@jupyter-widgets/controls",
          "model_name": "DescriptionStyleModel",
          "model_module_version": "1.5.0",
          "state": {
            "_model_module": "@jupyter-widgets/controls",
            "_model_module_version": "1.5.0",
            "_model_name": "DescriptionStyleModel",
            "_view_count": null,
            "_view_module": "@jupyter-widgets/base",
            "_view_module_version": "1.2.0",
            "_view_name": "StyleView",
            "description_width": ""
          }
        }
      }
    }
  },
  "cells": [
    {
      "cell_type": "code",
      "source": [
        "! pip install transformers"
      ],
      "metadata": {
        "id": "RgdrzdnyWI1G",
        "colab": {
          "base_uri": "https://localhost:8080/"
        },
        "outputId": "c656a540-5dc9-474e-97df-8c286bbe2cdd"
      },
      "execution_count": 1,
      "outputs": [
        {
          "output_type": "stream",
          "name": "stdout",
          "text": [
            "Looking in indexes: https://pypi.org/simple, https://us-python.pkg.dev/colab-wheels/public/simple/\n",
            "Collecting transformers\n",
            "  Downloading transformers-4.23.1-py3-none-any.whl (5.3 MB)\n",
            "\u001b[K     |████████████████████████████████| 5.3 MB 5.1 MB/s \n",
            "\u001b[?25hRequirement already satisfied: numpy>=1.17 in /usr/local/lib/python3.7/dist-packages (from transformers) (1.21.6)\n",
            "Collecting huggingface-hub<1.0,>=0.10.0\n",
            "  Downloading huggingface_hub-0.10.1-py3-none-any.whl (163 kB)\n",
            "\u001b[K     |████████████████████████████████| 163 kB 67.7 MB/s \n",
            "\u001b[?25hRequirement already satisfied: tqdm>=4.27 in /usr/local/lib/python3.7/dist-packages (from transformers) (4.64.1)\n",
            "Requirement already satisfied: requests in /usr/local/lib/python3.7/dist-packages (from transformers) (2.23.0)\n",
            "Requirement already satisfied: importlib-metadata in /usr/local/lib/python3.7/dist-packages (from transformers) (4.13.0)\n",
            "Requirement already satisfied: pyyaml>=5.1 in /usr/local/lib/python3.7/dist-packages (from transformers) (6.0)\n",
            "Requirement already satisfied: packaging>=20.0 in /usr/local/lib/python3.7/dist-packages (from transformers) (21.3)\n",
            "Collecting tokenizers!=0.11.3,<0.14,>=0.11.1\n",
            "  Downloading tokenizers-0.13.1-cp37-cp37m-manylinux_2_17_x86_64.manylinux2014_x86_64.whl (7.6 MB)\n",
            "\u001b[K     |████████████████████████████████| 7.6 MB 45.2 MB/s \n",
            "\u001b[?25hRequirement already satisfied: regex!=2019.12.17 in /usr/local/lib/python3.7/dist-packages (from transformers) (2022.6.2)\n",
            "Requirement already satisfied: filelock in /usr/local/lib/python3.7/dist-packages (from transformers) (3.8.0)\n",
            "Requirement already satisfied: typing-extensions>=3.7.4.3 in /usr/local/lib/python3.7/dist-packages (from huggingface-hub<1.0,>=0.10.0->transformers) (4.1.1)\n",
            "Requirement already satisfied: pyparsing!=3.0.5,>=2.0.2 in /usr/local/lib/python3.7/dist-packages (from packaging>=20.0->transformers) (3.0.9)\n",
            "Requirement already satisfied: zipp>=0.5 in /usr/local/lib/python3.7/dist-packages (from importlib-metadata->transformers) (3.9.0)\n",
            "Requirement already satisfied: certifi>=2017.4.17 in /usr/local/lib/python3.7/dist-packages (from requests->transformers) (2022.9.24)\n",
            "Requirement already satisfied: urllib3!=1.25.0,!=1.25.1,<1.26,>=1.21.1 in /usr/local/lib/python3.7/dist-packages (from requests->transformers) (1.24.3)\n",
            "Requirement already satisfied: chardet<4,>=3.0.2 in /usr/local/lib/python3.7/dist-packages (from requests->transformers) (3.0.4)\n",
            "Requirement already satisfied: idna<3,>=2.5 in /usr/local/lib/python3.7/dist-packages (from requests->transformers) (2.10)\n",
            "Installing collected packages: tokenizers, huggingface-hub, transformers\n",
            "Successfully installed huggingface-hub-0.10.1 tokenizers-0.13.1 transformers-4.23.1\n"
          ]
        }
      ]
    },
    {
      "cell_type": "code",
      "execution_count": 2,
      "metadata": {
        "id": "KC4cwPtlDG17"
      },
      "outputs": [],
      "source": [
        "import pandas as pd\n",
        "import numpy as np"
      ]
    },
    {
      "cell_type": "code",
      "source": [
        "df =  pd.read_csv('Emotional_Support_Dataset_new.csv',index_col=0)"
      ],
      "metadata": {
        "id": "gvNkgUUpS1ut"
      },
      "execution_count": 5,
      "outputs": []
    },
    {
      "cell_type": "code",
      "source": [
        "df.head()"
      ],
      "metadata": {
        "colab": {
          "base_uri": "https://localhost:8080/",
          "height": 204
        },
        "id": "k_WePCI57nr6",
        "outputId": "3de6233f-e189-48a3-8388-c31db354083f"
      },
      "execution_count": 6,
      "outputs": [
        {
          "output_type": "execute_result",
          "data": {
            "text/plain": [
              "   informational_support  emotional_support  esteem_support  tangible_support  \\\n",
              "0                      1                  1               0                 0   \n",
              "1                      0                  1               1                 0   \n",
              "2                      1                  1               0                 0   \n",
              "3                      1                  1               0                 0   \n",
              "4                      1                  1               0                 0   \n",
              "\n",
              "   network_support                                  Question_Combined  \n",
              "0                0  trouble sleeping? I am a 16yo male, and I have...  \n",
              "1                0  Is it cancer??? A few days ago I started getti...  \n",
              "2                0  *doctor advice or information needed please*? ...  \n",
              "3                0  is yelling all the time for little things a me...  \n",
              "4                0  How can I prevnet haveing a heart attack? I'm ...  "
            ],
            "text/html": [
              "\n",
              "  <div id=\"df-509f0873-06f6-4e65-9297-48712ae42fe3\">\n",
              "    <div class=\"colab-df-container\">\n",
              "      <div>\n",
              "<style scoped>\n",
              "    .dataframe tbody tr th:only-of-type {\n",
              "        vertical-align: middle;\n",
              "    }\n",
              "\n",
              "    .dataframe tbody tr th {\n",
              "        vertical-align: top;\n",
              "    }\n",
              "\n",
              "    .dataframe thead th {\n",
              "        text-align: right;\n",
              "    }\n",
              "</style>\n",
              "<table border=\"1\" class=\"dataframe\">\n",
              "  <thead>\n",
              "    <tr style=\"text-align: right;\">\n",
              "      <th></th>\n",
              "      <th>informational_support</th>\n",
              "      <th>emotional_support</th>\n",
              "      <th>esteem_support</th>\n",
              "      <th>tangible_support</th>\n",
              "      <th>network_support</th>\n",
              "      <th>Question_Combined</th>\n",
              "    </tr>\n",
              "  </thead>\n",
              "  <tbody>\n",
              "    <tr>\n",
              "      <th>0</th>\n",
              "      <td>1</td>\n",
              "      <td>1</td>\n",
              "      <td>0</td>\n",
              "      <td>0</td>\n",
              "      <td>0</td>\n",
              "      <td>trouble sleeping? I am a 16yo male, and I have...</td>\n",
              "    </tr>\n",
              "    <tr>\n",
              "      <th>1</th>\n",
              "      <td>0</td>\n",
              "      <td>1</td>\n",
              "      <td>1</td>\n",
              "      <td>0</td>\n",
              "      <td>0</td>\n",
              "      <td>Is it cancer??? A few days ago I started getti...</td>\n",
              "    </tr>\n",
              "    <tr>\n",
              "      <th>2</th>\n",
              "      <td>1</td>\n",
              "      <td>1</td>\n",
              "      <td>0</td>\n",
              "      <td>0</td>\n",
              "      <td>0</td>\n",
              "      <td>*doctor advice or information needed please*? ...</td>\n",
              "    </tr>\n",
              "    <tr>\n",
              "      <th>3</th>\n",
              "      <td>1</td>\n",
              "      <td>1</td>\n",
              "      <td>0</td>\n",
              "      <td>0</td>\n",
              "      <td>0</td>\n",
              "      <td>is yelling all the time for little things a me...</td>\n",
              "    </tr>\n",
              "    <tr>\n",
              "      <th>4</th>\n",
              "      <td>1</td>\n",
              "      <td>1</td>\n",
              "      <td>0</td>\n",
              "      <td>0</td>\n",
              "      <td>0</td>\n",
              "      <td>How can I prevnet haveing a heart attack? I'm ...</td>\n",
              "    </tr>\n",
              "  </tbody>\n",
              "</table>\n",
              "</div>\n",
              "      <button class=\"colab-df-convert\" onclick=\"convertToInteractive('df-509f0873-06f6-4e65-9297-48712ae42fe3')\"\n",
              "              title=\"Convert this dataframe to an interactive table.\"\n",
              "              style=\"display:none;\">\n",
              "        \n",
              "  <svg xmlns=\"http://www.w3.org/2000/svg\" height=\"24px\"viewBox=\"0 0 24 24\"\n",
              "       width=\"24px\">\n",
              "    <path d=\"M0 0h24v24H0V0z\" fill=\"none\"/>\n",
              "    <path d=\"M18.56 5.44l.94 2.06.94-2.06 2.06-.94-2.06-.94-.94-2.06-.94 2.06-2.06.94zm-11 1L8.5 8.5l.94-2.06 2.06-.94-2.06-.94L8.5 2.5l-.94 2.06-2.06.94zm10 10l.94 2.06.94-2.06 2.06-.94-2.06-.94-.94-2.06-.94 2.06-2.06.94z\"/><path d=\"M17.41 7.96l-1.37-1.37c-.4-.4-.92-.59-1.43-.59-.52 0-1.04.2-1.43.59L10.3 9.45l-7.72 7.72c-.78.78-.78 2.05 0 2.83L4 21.41c.39.39.9.59 1.41.59.51 0 1.02-.2 1.41-.59l7.78-7.78 2.81-2.81c.8-.78.8-2.07 0-2.86zM5.41 20L4 18.59l7.72-7.72 1.47 1.35L5.41 20z\"/>\n",
              "  </svg>\n",
              "      </button>\n",
              "      \n",
              "  <style>\n",
              "    .colab-df-container {\n",
              "      display:flex;\n",
              "      flex-wrap:wrap;\n",
              "      gap: 12px;\n",
              "    }\n",
              "\n",
              "    .colab-df-convert {\n",
              "      background-color: #E8F0FE;\n",
              "      border: none;\n",
              "      border-radius: 50%;\n",
              "      cursor: pointer;\n",
              "      display: none;\n",
              "      fill: #1967D2;\n",
              "      height: 32px;\n",
              "      padding: 0 0 0 0;\n",
              "      width: 32px;\n",
              "    }\n",
              "\n",
              "    .colab-df-convert:hover {\n",
              "      background-color: #E2EBFA;\n",
              "      box-shadow: 0px 1px 2px rgba(60, 64, 67, 0.3), 0px 1px 3px 1px rgba(60, 64, 67, 0.15);\n",
              "      fill: #174EA6;\n",
              "    }\n",
              "\n",
              "    [theme=dark] .colab-df-convert {\n",
              "      background-color: #3B4455;\n",
              "      fill: #D2E3FC;\n",
              "    }\n",
              "\n",
              "    [theme=dark] .colab-df-convert:hover {\n",
              "      background-color: #434B5C;\n",
              "      box-shadow: 0px 1px 3px 1px rgba(0, 0, 0, 0.15);\n",
              "      filter: drop-shadow(0px 1px 2px rgba(0, 0, 0, 0.3));\n",
              "      fill: #FFFFFF;\n",
              "    }\n",
              "  </style>\n",
              "\n",
              "      <script>\n",
              "        const buttonEl =\n",
              "          document.querySelector('#df-509f0873-06f6-4e65-9297-48712ae42fe3 button.colab-df-convert');\n",
              "        buttonEl.style.display =\n",
              "          google.colab.kernel.accessAllowed ? 'block' : 'none';\n",
              "\n",
              "        async function convertToInteractive(key) {\n",
              "          const element = document.querySelector('#df-509f0873-06f6-4e65-9297-48712ae42fe3');\n",
              "          const dataTable =\n",
              "            await google.colab.kernel.invokeFunction('convertToInteractive',\n",
              "                                                     [key], {});\n",
              "          if (!dataTable) return;\n",
              "\n",
              "          const docLinkHtml = 'Like what you see? Visit the ' +\n",
              "            '<a target=\"_blank\" href=https://colab.research.google.com/notebooks/data_table.ipynb>data table notebook</a>'\n",
              "            + ' to learn more about interactive tables.';\n",
              "          element.innerHTML = '';\n",
              "          dataTable['output_type'] = 'display_data';\n",
              "          await google.colab.output.renderOutput(dataTable, element);\n",
              "          const docLink = document.createElement('div');\n",
              "          docLink.innerHTML = docLinkHtml;\n",
              "          element.appendChild(docLink);\n",
              "        }\n",
              "      </script>\n",
              "    </div>\n",
              "  </div>\n",
              "  "
            ]
          },
          "metadata": {},
          "execution_count": 6
        }
      ]
    },
    {
      "cell_type": "code",
      "source": [
        "df['Question_Combined'] = df['Question_Combined'].str.lower()"
      ],
      "metadata": {
        "id": "loI5vJ-80ogj"
      },
      "execution_count": 7,
      "outputs": []
    },
    {
      "cell_type": "code",
      "source": [
        "df.columns"
      ],
      "metadata": {
        "colab": {
          "base_uri": "https://localhost:8080/"
        },
        "id": "GULytYyr7uOT",
        "outputId": "c3d63bd1-2b34-409c-e5e8-61196d427ddf"
      },
      "execution_count": 8,
      "outputs": [
        {
          "output_type": "execute_result",
          "data": {
            "text/plain": [
              "Index(['informational_support', 'emotional_support', 'esteem_support',\n",
              "       'tangible_support', 'network_support', 'Question_Combined'],\n",
              "      dtype='object')"
            ]
          },
          "metadata": {},
          "execution_count": 8
        }
      ]
    },
    {
      "cell_type": "code",
      "source": [
        "df['emotional_esteem'] = df['emotional_support'] + df['esteem_support']\n",
        "df['emotional_esteem'] = df['emotional_esteem'].apply(lambda x: 1 if x>=1 else 0)\n",
        "\n",
        "df['informational_tangible'] = df['informational_support'] + df['tangible_support']\n",
        "df['informational_tangible'] = df['informational_tangible'].apply(lambda x: 1 if x>=1 else 0)"
      ],
      "metadata": {
        "id": "1LLwfV-BUPuT"
      },
      "execution_count": 9,
      "outputs": []
    },
    {
      "cell_type": "code",
      "source": [
        "df.drop(columns=['emotional_support', 'esteem_support',\n",
        "                'informational_support', 'tangible_support'],\n",
        "        inplace=True)\n",
        "df.head()"
      ],
      "metadata": {
        "colab": {
          "base_uri": "https://localhost:8080/",
          "height": 204
        },
        "id": "DlTtK5j2U_V_",
        "outputId": "39b66cfb-0c6c-44cb-e880-9dbc254eb17f"
      },
      "execution_count": 10,
      "outputs": [
        {
          "output_type": "execute_result",
          "data": {
            "text/plain": [
              "   network_support                                  Question_Combined  \\\n",
              "0                0  trouble sleeping? i am a 16yo male, and i have...   \n",
              "1                0  is it cancer??? a few days ago i started getti...   \n",
              "2                0  *doctor advice or information needed please*? ...   \n",
              "3                0  is yelling all the time for little things a me...   \n",
              "4                0  how can i prevnet haveing a heart attack? i'm ...   \n",
              "\n",
              "   emotional_esteem  informational_tangible  \n",
              "0                 1                       1  \n",
              "1                 1                       0  \n",
              "2                 1                       1  \n",
              "3                 1                       1  \n",
              "4                 1                       1  "
            ],
            "text/html": [
              "\n",
              "  <div id=\"df-e4359868-7061-4c94-9737-8d96c0ad7e72\">\n",
              "    <div class=\"colab-df-container\">\n",
              "      <div>\n",
              "<style scoped>\n",
              "    .dataframe tbody tr th:only-of-type {\n",
              "        vertical-align: middle;\n",
              "    }\n",
              "\n",
              "    .dataframe tbody tr th {\n",
              "        vertical-align: top;\n",
              "    }\n",
              "\n",
              "    .dataframe thead th {\n",
              "        text-align: right;\n",
              "    }\n",
              "</style>\n",
              "<table border=\"1\" class=\"dataframe\">\n",
              "  <thead>\n",
              "    <tr style=\"text-align: right;\">\n",
              "      <th></th>\n",
              "      <th>network_support</th>\n",
              "      <th>Question_Combined</th>\n",
              "      <th>emotional_esteem</th>\n",
              "      <th>informational_tangible</th>\n",
              "    </tr>\n",
              "  </thead>\n",
              "  <tbody>\n",
              "    <tr>\n",
              "      <th>0</th>\n",
              "      <td>0</td>\n",
              "      <td>trouble sleeping? i am a 16yo male, and i have...</td>\n",
              "      <td>1</td>\n",
              "      <td>1</td>\n",
              "    </tr>\n",
              "    <tr>\n",
              "      <th>1</th>\n",
              "      <td>0</td>\n",
              "      <td>is it cancer??? a few days ago i started getti...</td>\n",
              "      <td>1</td>\n",
              "      <td>0</td>\n",
              "    </tr>\n",
              "    <tr>\n",
              "      <th>2</th>\n",
              "      <td>0</td>\n",
              "      <td>*doctor advice or information needed please*? ...</td>\n",
              "      <td>1</td>\n",
              "      <td>1</td>\n",
              "    </tr>\n",
              "    <tr>\n",
              "      <th>3</th>\n",
              "      <td>0</td>\n",
              "      <td>is yelling all the time for little things a me...</td>\n",
              "      <td>1</td>\n",
              "      <td>1</td>\n",
              "    </tr>\n",
              "    <tr>\n",
              "      <th>4</th>\n",
              "      <td>0</td>\n",
              "      <td>how can i prevnet haveing a heart attack? i'm ...</td>\n",
              "      <td>1</td>\n",
              "      <td>1</td>\n",
              "    </tr>\n",
              "  </tbody>\n",
              "</table>\n",
              "</div>\n",
              "      <button class=\"colab-df-convert\" onclick=\"convertToInteractive('df-e4359868-7061-4c94-9737-8d96c0ad7e72')\"\n",
              "              title=\"Convert this dataframe to an interactive table.\"\n",
              "              style=\"display:none;\">\n",
              "        \n",
              "  <svg xmlns=\"http://www.w3.org/2000/svg\" height=\"24px\"viewBox=\"0 0 24 24\"\n",
              "       width=\"24px\">\n",
              "    <path d=\"M0 0h24v24H0V0z\" fill=\"none\"/>\n",
              "    <path d=\"M18.56 5.44l.94 2.06.94-2.06 2.06-.94-2.06-.94-.94-2.06-.94 2.06-2.06.94zm-11 1L8.5 8.5l.94-2.06 2.06-.94-2.06-.94L8.5 2.5l-.94 2.06-2.06.94zm10 10l.94 2.06.94-2.06 2.06-.94-2.06-.94-.94-2.06-.94 2.06-2.06.94z\"/><path d=\"M17.41 7.96l-1.37-1.37c-.4-.4-.92-.59-1.43-.59-.52 0-1.04.2-1.43.59L10.3 9.45l-7.72 7.72c-.78.78-.78 2.05 0 2.83L4 21.41c.39.39.9.59 1.41.59.51 0 1.02-.2 1.41-.59l7.78-7.78 2.81-2.81c.8-.78.8-2.07 0-2.86zM5.41 20L4 18.59l7.72-7.72 1.47 1.35L5.41 20z\"/>\n",
              "  </svg>\n",
              "      </button>\n",
              "      \n",
              "  <style>\n",
              "    .colab-df-container {\n",
              "      display:flex;\n",
              "      flex-wrap:wrap;\n",
              "      gap: 12px;\n",
              "    }\n",
              "\n",
              "    .colab-df-convert {\n",
              "      background-color: #E8F0FE;\n",
              "      border: none;\n",
              "      border-radius: 50%;\n",
              "      cursor: pointer;\n",
              "      display: none;\n",
              "      fill: #1967D2;\n",
              "      height: 32px;\n",
              "      padding: 0 0 0 0;\n",
              "      width: 32px;\n",
              "    }\n",
              "\n",
              "    .colab-df-convert:hover {\n",
              "      background-color: #E2EBFA;\n",
              "      box-shadow: 0px 1px 2px rgba(60, 64, 67, 0.3), 0px 1px 3px 1px rgba(60, 64, 67, 0.15);\n",
              "      fill: #174EA6;\n",
              "    }\n",
              "\n",
              "    [theme=dark] .colab-df-convert {\n",
              "      background-color: #3B4455;\n",
              "      fill: #D2E3FC;\n",
              "    }\n",
              "\n",
              "    [theme=dark] .colab-df-convert:hover {\n",
              "      background-color: #434B5C;\n",
              "      box-shadow: 0px 1px 3px 1px rgba(0, 0, 0, 0.15);\n",
              "      filter: drop-shadow(0px 1px 2px rgba(0, 0, 0, 0.3));\n",
              "      fill: #FFFFFF;\n",
              "    }\n",
              "  </style>\n",
              "\n",
              "      <script>\n",
              "        const buttonEl =\n",
              "          document.querySelector('#df-e4359868-7061-4c94-9737-8d96c0ad7e72 button.colab-df-convert');\n",
              "        buttonEl.style.display =\n",
              "          google.colab.kernel.accessAllowed ? 'block' : 'none';\n",
              "\n",
              "        async function convertToInteractive(key) {\n",
              "          const element = document.querySelector('#df-e4359868-7061-4c94-9737-8d96c0ad7e72');\n",
              "          const dataTable =\n",
              "            await google.colab.kernel.invokeFunction('convertToInteractive',\n",
              "                                                     [key], {});\n",
              "          if (!dataTable) return;\n",
              "\n",
              "          const docLinkHtml = 'Like what you see? Visit the ' +\n",
              "            '<a target=\"_blank\" href=https://colab.research.google.com/notebooks/data_table.ipynb>data table notebook</a>'\n",
              "            + ' to learn more about interactive tables.';\n",
              "          element.innerHTML = '';\n",
              "          dataTable['output_type'] = 'display_data';\n",
              "          await google.colab.output.renderOutput(dataTable, element);\n",
              "          const docLink = document.createElement('div');\n",
              "          docLink.innerHTML = docLinkHtml;\n",
              "          element.appendChild(docLink);\n",
              "        }\n",
              "      </script>\n",
              "    </div>\n",
              "  </div>\n",
              "  "
            ]
          },
          "metadata": {},
          "execution_count": 10
        }
      ]
    },
    {
      "cell_type": "code",
      "source": [
        "df = df[['Question_Combined', 'network_support',\n",
        "         'emotional_esteem', 'informational_tangible']]\n",
        "df.head()"
      ],
      "metadata": {
        "colab": {
          "base_uri": "https://localhost:8080/",
          "height": 204
        },
        "id": "Ktbq6u5xVU3-",
        "outputId": "62cdf8e7-708c-4c00-ac6c-e778cb38ad4d"
      },
      "execution_count": 11,
      "outputs": [
        {
          "output_type": "execute_result",
          "data": {
            "text/plain": [
              "                                   Question_Combined  network_support  \\\n",
              "0  trouble sleeping? i am a 16yo male, and i have...                0   \n",
              "1  is it cancer??? a few days ago i started getti...                0   \n",
              "2  *doctor advice or information needed please*? ...                0   \n",
              "3  is yelling all the time for little things a me...                0   \n",
              "4  how can i prevnet haveing a heart attack? i'm ...                0   \n",
              "\n",
              "   emotional_esteem  informational_tangible  \n",
              "0                 1                       1  \n",
              "1                 1                       0  \n",
              "2                 1                       1  \n",
              "3                 1                       1  \n",
              "4                 1                       1  "
            ],
            "text/html": [
              "\n",
              "  <div id=\"df-aa299b2d-d0c7-468e-8723-207e061c5618\">\n",
              "    <div class=\"colab-df-container\">\n",
              "      <div>\n",
              "<style scoped>\n",
              "    .dataframe tbody tr th:only-of-type {\n",
              "        vertical-align: middle;\n",
              "    }\n",
              "\n",
              "    .dataframe tbody tr th {\n",
              "        vertical-align: top;\n",
              "    }\n",
              "\n",
              "    .dataframe thead th {\n",
              "        text-align: right;\n",
              "    }\n",
              "</style>\n",
              "<table border=\"1\" class=\"dataframe\">\n",
              "  <thead>\n",
              "    <tr style=\"text-align: right;\">\n",
              "      <th></th>\n",
              "      <th>Question_Combined</th>\n",
              "      <th>network_support</th>\n",
              "      <th>emotional_esteem</th>\n",
              "      <th>informational_tangible</th>\n",
              "    </tr>\n",
              "  </thead>\n",
              "  <tbody>\n",
              "    <tr>\n",
              "      <th>0</th>\n",
              "      <td>trouble sleeping? i am a 16yo male, and i have...</td>\n",
              "      <td>0</td>\n",
              "      <td>1</td>\n",
              "      <td>1</td>\n",
              "    </tr>\n",
              "    <tr>\n",
              "      <th>1</th>\n",
              "      <td>is it cancer??? a few days ago i started getti...</td>\n",
              "      <td>0</td>\n",
              "      <td>1</td>\n",
              "      <td>0</td>\n",
              "    </tr>\n",
              "    <tr>\n",
              "      <th>2</th>\n",
              "      <td>*doctor advice or information needed please*? ...</td>\n",
              "      <td>0</td>\n",
              "      <td>1</td>\n",
              "      <td>1</td>\n",
              "    </tr>\n",
              "    <tr>\n",
              "      <th>3</th>\n",
              "      <td>is yelling all the time for little things a me...</td>\n",
              "      <td>0</td>\n",
              "      <td>1</td>\n",
              "      <td>1</td>\n",
              "    </tr>\n",
              "    <tr>\n",
              "      <th>4</th>\n",
              "      <td>how can i prevnet haveing a heart attack? i'm ...</td>\n",
              "      <td>0</td>\n",
              "      <td>1</td>\n",
              "      <td>1</td>\n",
              "    </tr>\n",
              "  </tbody>\n",
              "</table>\n",
              "</div>\n",
              "      <button class=\"colab-df-convert\" onclick=\"convertToInteractive('df-aa299b2d-d0c7-468e-8723-207e061c5618')\"\n",
              "              title=\"Convert this dataframe to an interactive table.\"\n",
              "              style=\"display:none;\">\n",
              "        \n",
              "  <svg xmlns=\"http://www.w3.org/2000/svg\" height=\"24px\"viewBox=\"0 0 24 24\"\n",
              "       width=\"24px\">\n",
              "    <path d=\"M0 0h24v24H0V0z\" fill=\"none\"/>\n",
              "    <path d=\"M18.56 5.44l.94 2.06.94-2.06 2.06-.94-2.06-.94-.94-2.06-.94 2.06-2.06.94zm-11 1L8.5 8.5l.94-2.06 2.06-.94-2.06-.94L8.5 2.5l-.94 2.06-2.06.94zm10 10l.94 2.06.94-2.06 2.06-.94-2.06-.94-.94-2.06-.94 2.06-2.06.94z\"/><path d=\"M17.41 7.96l-1.37-1.37c-.4-.4-.92-.59-1.43-.59-.52 0-1.04.2-1.43.59L10.3 9.45l-7.72 7.72c-.78.78-.78 2.05 0 2.83L4 21.41c.39.39.9.59 1.41.59.51 0 1.02-.2 1.41-.59l7.78-7.78 2.81-2.81c.8-.78.8-2.07 0-2.86zM5.41 20L4 18.59l7.72-7.72 1.47 1.35L5.41 20z\"/>\n",
              "  </svg>\n",
              "      </button>\n",
              "      \n",
              "  <style>\n",
              "    .colab-df-container {\n",
              "      display:flex;\n",
              "      flex-wrap:wrap;\n",
              "      gap: 12px;\n",
              "    }\n",
              "\n",
              "    .colab-df-convert {\n",
              "      background-color: #E8F0FE;\n",
              "      border: none;\n",
              "      border-radius: 50%;\n",
              "      cursor: pointer;\n",
              "      display: none;\n",
              "      fill: #1967D2;\n",
              "      height: 32px;\n",
              "      padding: 0 0 0 0;\n",
              "      width: 32px;\n",
              "    }\n",
              "\n",
              "    .colab-df-convert:hover {\n",
              "      background-color: #E2EBFA;\n",
              "      box-shadow: 0px 1px 2px rgba(60, 64, 67, 0.3), 0px 1px 3px 1px rgba(60, 64, 67, 0.15);\n",
              "      fill: #174EA6;\n",
              "    }\n",
              "\n",
              "    [theme=dark] .colab-df-convert {\n",
              "      background-color: #3B4455;\n",
              "      fill: #D2E3FC;\n",
              "    }\n",
              "\n",
              "    [theme=dark] .colab-df-convert:hover {\n",
              "      background-color: #434B5C;\n",
              "      box-shadow: 0px 1px 3px 1px rgba(0, 0, 0, 0.15);\n",
              "      filter: drop-shadow(0px 1px 2px rgba(0, 0, 0, 0.3));\n",
              "      fill: #FFFFFF;\n",
              "    }\n",
              "  </style>\n",
              "\n",
              "      <script>\n",
              "        const buttonEl =\n",
              "          document.querySelector('#df-aa299b2d-d0c7-468e-8723-207e061c5618 button.colab-df-convert');\n",
              "        buttonEl.style.display =\n",
              "          google.colab.kernel.accessAllowed ? 'block' : 'none';\n",
              "\n",
              "        async function convertToInteractive(key) {\n",
              "          const element = document.querySelector('#df-aa299b2d-d0c7-468e-8723-207e061c5618');\n",
              "          const dataTable =\n",
              "            await google.colab.kernel.invokeFunction('convertToInteractive',\n",
              "                                                     [key], {});\n",
              "          if (!dataTable) return;\n",
              "\n",
              "          const docLinkHtml = 'Like what you see? Visit the ' +\n",
              "            '<a target=\"_blank\" href=https://colab.research.google.com/notebooks/data_table.ipynb>data table notebook</a>'\n",
              "            + ' to learn more about interactive tables.';\n",
              "          element.innerHTML = '';\n",
              "          dataTable['output_type'] = 'display_data';\n",
              "          await google.colab.output.renderOutput(dataTable, element);\n",
              "          const docLink = document.createElement('div');\n",
              "          docLink.innerHTML = docLinkHtml;\n",
              "          element.appendChild(docLink);\n",
              "        }\n",
              "      </script>\n",
              "    </div>\n",
              "  </div>\n",
              "  "
            ]
          },
          "metadata": {},
          "execution_count": 11
        }
      ]
    },
    {
      "cell_type": "code",
      "source": [
        "y = df.iloc[:, 1:].values.astype(float)"
      ],
      "metadata": {
        "id": "zuNytej_7vSf"
      },
      "execution_count": 12,
      "outputs": []
    },
    {
      "cell_type": "code",
      "source": [
        "unique, counts = np.unique(y[:, 2], return_counts=True)\n",
        "print(np.asarray((unique, counts)).T)"
      ],
      "metadata": {
        "colab": {
          "base_uri": "https://localhost:8080/"
        },
        "id": "s5TPsq9uMS_a",
        "outputId": "fa5acf07-df86-4400-ed3b-091cb48af4d6"
      },
      "execution_count": 13,
      "outputs": [
        {
          "output_type": "stream",
          "name": "stdout",
          "text": [
            "[[0.000e+00 4.850e+02]\n",
            " [1.000e+00 1.015e+03]]\n"
          ]
        }
      ]
    },
    {
      "cell_type": "markdown",
      "source": [
        "## Splitting the Data into train and test set"
      ],
      "metadata": {
        "id": "OqkTCqK_0QHT"
      }
    },
    {
      "cell_type": "code",
      "source": [
        "X = df['Question_Combined'].values"
      ],
      "metadata": {
        "id": "7JmxPwAP4C7E"
      },
      "execution_count": 14,
      "outputs": []
    },
    {
      "cell_type": "code",
      "source": [
        "from sklearn.model_selection import train_test_split\n",
        "X_train, X_test, y_train, y_test = train_test_split(\n",
        "    X, y, test_size=0.2, random_state=42)"
      ],
      "metadata": {
        "id": "gbltiSBbT0MA"
      },
      "execution_count": 15,
      "outputs": []
    },
    {
      "cell_type": "code",
      "source": [
        "unique, counts = np.unique(y_train[:, 2], return_counts=True)\n",
        "print(np.asarray((unique, counts)).T)"
      ],
      "metadata": {
        "colab": {
          "base_uri": "https://localhost:8080/"
        },
        "id": "swuTMNG6Mhd9",
        "outputId": "2a324d6b-a11c-46a6-8640-d010bf7361e0"
      },
      "execution_count": 16,
      "outputs": [
        {
          "output_type": "stream",
          "name": "stdout",
          "text": [
            "[[  0. 387.]\n",
            " [  1. 813.]]\n"
          ]
        }
      ]
    },
    {
      "cell_type": "markdown",
      "source": [
        "### Set up GPU"
      ],
      "metadata": {
        "id": "xSF_AiaJmyym"
      }
    },
    {
      "cell_type": "code",
      "source": [
        "import torch\n",
        "\n",
        "if torch.cuda.is_available():       \n",
        "    device = torch.device(\"cuda\")\n",
        "    print(f'There are {torch.cuda.device_count()} GPU(s) available.')\n",
        "    print('Device name:', torch.cuda.get_device_name(0))\n",
        "\n",
        "else:\n",
        "    print('No GPU available, using the CPU instead.')\n",
        "    device = torch.device(\"cpu\")"
      ],
      "metadata": {
        "id": "OQ6AFXZ_WrFj",
        "colab": {
          "base_uri": "https://localhost:8080/"
        },
        "outputId": "120e206a-fb65-46b3-d66f-dc5db6302ac1"
      },
      "execution_count": 17,
      "outputs": [
        {
          "output_type": "stream",
          "name": "stdout",
          "text": [
            "There are 1 GPU(s) available.\n",
            "Device name: Tesla T4\n"
          ]
        }
      ]
    },
    {
      "cell_type": "code",
      "source": [
        "from transformers import RobertaTokenizer,DistilBertTokenizer, BertTokenizer,BertModel, RobertaModel, AlbertModel, GPT2Model, DistilBertModel, AdamW, get_linear_schedule_with_warmup\n"
      ],
      "metadata": {
        "id": "oe2_l3jpPYlH"
      },
      "execution_count": 18,
      "outputs": []
    },
    {
      "cell_type": "code",
      "source": [
        "model_name = 'bert-base-uncased'\n",
        "# Load the BERT tokenizer\n",
        "tokenizer = BertTokenizer.from_pretrained(model_name, do_lower_case=True)"
      ],
      "metadata": {
        "id": "cOyBYcbvPBSH",
        "colab": {
          "base_uri": "https://localhost:8080/",
          "height": 113,
          "referenced_widgets": [
            "549e9b5efb6f4703bc1a09326004f2f5",
            "ae47dfb93028499d9d09abe58e2ad35c",
            "12783f1f1fbe4751a8f3245f46660bed",
            "4537023bc669411e9b550af11afc5baf",
            "864e7f9a504c4cd8b5a831f89df6a472",
            "215938d41fdd4feca1485606c8d21058",
            "709baf1ce78048a4bf7b964646fa1c92",
            "510765f40ada4731b454fd91211f0f6f",
            "673c4696d8f249d4828f5510e1665393",
            "b6c571ceb5164451a6c115d56699e80a",
            "acf9df49d7e94e87a688432f5afda895",
            "0d20cd4759744c05be2845ad0ec56a40",
            "6889198701744733b8bbef608397825b",
            "c06ab8681abe4cf3b7523f1810b78b03",
            "bbe95649c990493b8813368a2c8a34f0",
            "012e38f5044c47dfa5a0ef920cd93467",
            "4064896b3267409e9bd4f5ddb6933a0a",
            "ef1476230ff4480eb5850eb85d7058d0",
            "46e4036f53534b5dbc35084bb9037ac5",
            "2728a58feade4f1e815de6c5b38cc522",
            "b914969612e14905a938172d733d3a72",
            "51744710c58a43f689f47ab96ab31b0f",
            "31b9834a92a84217a70f292094124ef9",
            "b809363ba7334896b0fbc20f4a006d89",
            "8b568bd0cdd5480ca4f4d40513cca464",
            "755b0f01e51b40269a2aaf2f75d40d31",
            "6487745996874481820d06cf3a8c9262",
            "150e1922d7e143d6a6d25400cd3175c8",
            "d61a41a846ae4a039dd3207fe33c6414",
            "103ff30633464607b484bc6a0dd88103",
            "10f6eb7510554ee9840ff25b274569e6",
            "4fa660a172654797b950f58b2e79e670",
            "fa39bb7d6f0d4a719065843f6b9ae062"
          ]
        },
        "outputId": "01065a36-5fd0-4332-ff0b-364b3f56932c"
      },
      "execution_count": 19,
      "outputs": [
        {
          "output_type": "display_data",
          "data": {
            "text/plain": [
              "Downloading:   0%|          | 0.00/232k [00:00<?, ?B/s]"
            ],
            "application/vnd.jupyter.widget-view+json": {
              "version_major": 2,
              "version_minor": 0,
              "model_id": "549e9b5efb6f4703bc1a09326004f2f5"
            }
          },
          "metadata": {}
        },
        {
          "output_type": "display_data",
          "data": {
            "text/plain": [
              "Downloading:   0%|          | 0.00/28.0 [00:00<?, ?B/s]"
            ],
            "application/vnd.jupyter.widget-view+json": {
              "version_major": 2,
              "version_minor": 0,
              "model_id": "0d20cd4759744c05be2845ad0ec56a40"
            }
          },
          "metadata": {}
        },
        {
          "output_type": "display_data",
          "data": {
            "text/plain": [
              "Downloading:   0%|          | 0.00/570 [00:00<?, ?B/s]"
            ],
            "application/vnd.jupyter.widget-view+json": {
              "version_major": 2,
              "version_minor": 0,
              "model_id": "31b9834a92a84217a70f292094124ef9"
            }
          },
          "metadata": {}
        }
      ]
    },
    {
      "cell_type": "code",
      "source": [
        "from transformers import BertTokenizer\n",
        "\n",
        "\n",
        "\n",
        "# Create a function to tokenize a set of texts\n",
        "def preprocessing_for_bert(data):\n",
        "    input_ids = []\n",
        "    attention_masks = []\n",
        "\n",
        "    # For every sentence...\n",
        "    for sent in data:\n",
        "\n",
        "        encoded_sent = tokenizer.encode_plus(\n",
        "            text=sent,  # Preprocess sentence\n",
        "            add_special_tokens=True,        # Add `[CLS]` and `[SEP]`\n",
        "            max_length=MAX_LEN,                  # Max length to truncate/pad\n",
        "            pad_to_max_length=True,         # Pad sentence to max length\n",
        "            #return_tensors='pt',           # Return PyTorch tensor\n",
        "            return_attention_mask=True      # Return attention mask\n",
        "            )\n",
        "        \n",
        "        # Add the outputs to the lists\n",
        "        input_ids.append(encoded_sent.get('input_ids'))\n",
        "        attention_masks.append(encoded_sent.get('attention_mask'))\n",
        "\n",
        "    # Convert lists to tensors\n",
        "    input_ids = torch.tensor(input_ids)\n",
        "    attention_masks = torch.tensor(attention_masks)\n",
        "\n",
        "    return input_ids, attention_masks"
      ],
      "metadata": {
        "id": "IB6OqqJhCMXj"
      },
      "execution_count": null,
      "outputs": []
    },
    {
      "cell_type": "code",
      "source": [
        "# Concatenate train data and test data\n",
        "all_tweets = X\n",
        "\n",
        "# Encode our concatenated data\n",
        "encoded_tweets = [tokenizer.encode(sent, add_special_tokens=True) for sent in all_tweets]\n",
        "\n",
        "# Find the maximum length\n",
        "max_len = max([len(sent) for sent in encoded_tweets])\n",
        "print('Max length: ', max_len)"
      ],
      "metadata": {
        "colab": {
          "base_uri": "https://localhost:8080/"
        },
        "id": "wnHiRP0bCjV-",
        "outputId": "9b562d84-e6ba-49bb-e0e3-53ce656f8353"
      },
      "execution_count": null,
      "outputs": [
        {
          "output_type": "stream",
          "name": "stderr",
          "text": [
            "Token indices sequence length is longer than the specified maximum sequence length for this model (875 > 512). Running this sequence through the model will result in indexing errors\n"
          ]
        },
        {
          "output_type": "stream",
          "name": "stdout",
          "text": [
            "Max length:  875\n"
          ]
        }
      ]
    },
    {
      "cell_type": "code",
      "source": [
        "# Specify `MAX_LEN`\n",
        "MAX_LEN = 512\n",
        "\n",
        "# Print sentence 0 and its encoded token ids\n",
        "token_ids = list(preprocessing_for_bert([X[0]])[0].squeeze().numpy())\n",
        "print('Original: ', X[0])\n",
        "print('Token IDs: ', token_ids)\n",
        "\n",
        "# Run function `preprocessing_for_bert` on the train set and the validation set\n",
        "print('Tokenizing data...')\n",
        "train_inputs, train_masks = preprocessing_for_bert(X_train)\n",
        "val_inputs, val_masks = preprocessing_for_bert(X_test)"
      ],
      "metadata": {
        "colab": {
          "base_uri": "https://localhost:8080/"
        },
        "id": "EITSqtHwC6Ws",
        "outputId": "844bb13d-48f0-4c1d-bc07-9322692e9aef"
      },
      "execution_count": null,
      "outputs": [
        {
          "output_type": "stream",
          "name": "stderr",
          "text": [
            "Truncation was not explicitly activated but `max_length` is provided a specific value, please use `truncation=True` to explicitly truncate examples to max length. Defaulting to 'longest_first' truncation strategy. If you encode pairs of sequences (GLUE-style) with the tokenizer you can select this strategy more precisely by providing a specific strategy to `truncation`.\n",
            "/usr/local/lib/python3.7/dist-packages/transformers/tokenization_utils_base.py:2308: FutureWarning: The `pad_to_max_length` argument is deprecated and will be removed in a future version, use `padding=True` or `padding='longest'` to pad to the longest sequence in the batch, or use `padding='max_length'` to pad to a max length. In this case, you can give a specific length with `max_length` (e.g. `max_length=45`) or leave max_length to None to pad to the maximal input size of the model (e.g. 512 for Bert).\n",
            "  FutureWarning,\n"
          ]
        },
        {
          "output_type": "stream",
          "name": "stdout",
          "text": [
            "Original:  a pain in the neck! (literally), please help? let me start by saying, i am playing the violin in 6 different groups as of now and working at a doctors office full time, so this may be stress or violin related pain. \r\n",
            "\r\n",
            "a few days ago i started getting this shoulder pain in my right shoulder, i passed it off as tendonitis from violin playing, today it has started hurting all over my shoulder, mainly in the front and back near the top (this is all near the joint). also, when i take a deep breath, i get this pain a few inches below my arm-pit on my side, over (or under?) my richs, this is also on my right side. when taking deep breaths it also hurts my shoulder more and a little spot on the lower, back/right side of my  neck.\r\n",
            "what could this possibly be? it hurts like heck!\r\n",
            "serious answers only please.\r\n",
            "thank you\n",
            "Token IDs:  [101, 1037, 3255, 1999, 1996, 3300, 999, 1006, 6719, 1007, 1010, 3531, 2393, 1029, 2292, 2033, 2707, 2011, 3038, 1010, 1045, 2572, 2652, 1996, 6710, 1999, 1020, 2367, 2967, 2004, 1997, 2085, 1998, 2551, 2012, 1037, 7435, 2436, 2440, 2051, 1010, 2061, 2023, 2089, 2022, 6911, 2030, 6710, 3141, 3255, 1012, 1037, 2261, 2420, 3283, 1045, 2318, 2893, 2023, 3244, 3255, 1999, 2026, 2157, 3244, 1010, 1045, 2979, 2009, 2125, 2004, 7166, 10698, 7315, 2013, 6710, 2652, 1010, 2651, 2009, 2038, 2318, 11878, 2035, 2058, 2026, 3244, 1010, 3701, 1999, 1996, 2392, 1998, 2067, 2379, 1996, 2327, 1006, 2023, 2003, 2035, 2379, 1996, 4101, 1007, 1012, 2036, 1010, 2043, 1045, 2202, 1037, 2784, 3052, 1010, 1045, 2131, 2023, 3255, 1037, 2261, 5282, 2917, 2026, 2849, 1011, 6770, 2006, 2026, 2217, 1010, 2058, 1006, 2030, 2104, 1029, 1007, 2026, 4138, 2015, 1010, 2023, 2003, 2036, 2006, 2026, 2157, 2217, 1012, 2043, 2635, 2784, 12938, 2009, 2036, 13403, 2026, 3244, 2062, 1998, 1037, 2210, 3962, 2006, 1996, 2896, 1010, 2067, 1013, 2157, 2217, 1997, 2026, 3300, 1012, 2054, 2071, 2023, 4298, 2022, 1029, 2009, 13403, 2066, 17752, 999, 3809, 6998, 2069, 3531, 1012, 4067, 2017, 102, 0, 0, 0, 0, 0, 0, 0, 0, 0, 0, 0, 0, 0, 0, 0, 0, 0, 0, 0, 0, 0, 0, 0, 0, 0, 0, 0, 0, 0, 0, 0, 0, 0, 0, 0, 0, 0, 0, 0, 0, 0, 0, 0, 0, 0, 0, 0, 0, 0, 0, 0, 0, 0, 0, 0, 0, 0, 0, 0, 0, 0, 0, 0, 0, 0, 0, 0, 0, 0, 0, 0, 0, 0, 0, 0, 0, 0, 0, 0, 0, 0, 0, 0, 0, 0, 0, 0, 0, 0, 0, 0, 0, 0, 0, 0, 0, 0, 0, 0, 0, 0, 0, 0, 0, 0, 0, 0, 0, 0, 0, 0, 0, 0, 0, 0, 0, 0, 0, 0, 0, 0, 0, 0, 0, 0, 0, 0, 0, 0, 0, 0, 0, 0, 0, 0, 0, 0, 0, 0, 0, 0, 0, 0, 0, 0, 0, 0, 0, 0, 0, 0, 0, 0, 0, 0, 0, 0, 0, 0, 0, 0, 0, 0, 0, 0, 0, 0, 0, 0, 0, 0, 0, 0, 0, 0, 0, 0, 0, 0, 0, 0, 0, 0, 0, 0, 0, 0, 0, 0, 0, 0, 0, 0, 0, 0, 0, 0, 0, 0, 0, 0, 0, 0, 0, 0, 0, 0, 0, 0, 0, 0, 0, 0, 0, 0, 0, 0, 0, 0, 0, 0, 0, 0, 0, 0, 0, 0, 0, 0, 0, 0, 0, 0, 0, 0, 0, 0, 0, 0, 0, 0, 0, 0, 0, 0, 0, 0, 0, 0, 0, 0, 0, 0, 0, 0, 0, 0, 0, 0, 0, 0, 0, 0, 0, 0, 0, 0, 0, 0, 0, 0, 0, 0, 0, 0, 0, 0, 0, 0, 0, 0, 0, 0, 0, 0, 0, 0, 0, 0, 0, 0, 0, 0, 0, 0, 0, 0, 0, 0, 0, 0, 0, 0, 0, 0, 0, 0, 0, 0, 0, 0, 0, 0, 0, 0, 0, 0, 0]\n",
            "Tokenizing data...\n"
          ]
        }
      ]
    },
    {
      "cell_type": "code",
      "source": [
        "from torch.utils.data import TensorDataset, DataLoader, RandomSampler, SequentialSampler\n",
        "\n",
        "# Convert other data types to torch.Tensor\n",
        "train_labels = torch.tensor(y_train)\n",
        "val_labels = torch.tensor(torch.from_numpy(y_test))\n",
        "\n",
        "batch_size = 8\n",
        "\n",
        "# Create the DataLoader for our training set\n",
        "train_data = TensorDataset(train_inputs, train_masks, train_labels)\n",
        "train_sampler = RandomSampler(train_data)\n",
        "train_dataloader = DataLoader(train_data, sampler=train_sampler, batch_size=batch_size)\n",
        "\n",
        "# Create the DataLoader for our validation set\n",
        "val_data = TensorDataset(val_inputs, val_masks, val_labels)\n",
        "val_sampler = SequentialSampler(val_data)\n",
        "val_dataloader = DataLoader(val_data, sampler=val_sampler, batch_size=batch_size)"
      ],
      "metadata": {
        "id": "XN4eljawo-8C",
        "colab": {
          "base_uri": "https://localhost:8080/"
        },
        "outputId": "afc08501-576b-40d8-8a43-47d1e6337a2e"
      },
      "execution_count": null,
      "outputs": [
        {
          "output_type": "stream",
          "name": "stderr",
          "text": [
            "/usr/local/lib/python3.7/dist-packages/ipykernel_launcher.py:5: UserWarning: To copy construct from a tensor, it is recommended to use sourceTensor.clone().detach() or sourceTensor.clone().detach().requires_grad_(True), rather than torch.tensor(sourceTensor).\n",
            "  \"\"\"\n"
          ]
        }
      ]
    },
    {
      "cell_type": "code",
      "source": [
        "%%time\n",
        "import torch\n",
        "import torch.nn as nn\n",
        "from transformers import BertModel\n",
        "\n",
        "# Create the BertClassfier class\n",
        "class BertClassifier(nn.Module):\n",
        "\n",
        "\n",
        "    def __init__(self, freeze_bert=True):\n",
        "\n",
        "        super(BertClassifier, self).__init__()\n",
        "        # Specify hidden size of BERT, hidden size of our classifier, and number of labels\n",
        "        D_in, H, D_out = 768, 50, 3\n",
        "\n",
        "        # Instantiate BERT model\n",
        "        self.bert = BertModel.from_pretrained(model_name)\n",
        "\n",
        "        # Instantiate an one-layer feed-forward classifier\n",
        "        self.classifier = nn.Sequential(\n",
        "            nn.Linear(D_in, H),\n",
        "            nn.ReLU(),\n",
        "            # nn.Dropout(0.4),\n",
        "            nn.Linear(H, D_out),\n",
        "            # nn.Sigmoid()\n",
        "        )\n",
        "\n",
        "        # Freeze the BERT model\n",
        "        if freeze_bert:\n",
        "            for param in self.bert.parameters():\n",
        "                param.requires_grad = False\n",
        "        \n",
        "    def forward(self, input_ids, attention_mask):\n",
        "        outputs = self.bert(input_ids=input_ids,\n",
        "                            attention_mask=attention_mask)\n",
        "        \n",
        "        # Extract the last hidden state of the token `[CLS]` for classification task\n",
        "        last_hidden_state_cls = outputs[0][:, 0, :]\n",
        "\n",
        "        # Feed input to classifier to compute logits\n",
        "        logits = self.classifier(last_hidden_state_cls)\n",
        "\n",
        "        return logits"
      ],
      "metadata": {
        "id": "bQFpGeE5c_yP",
        "colab": {
          "base_uri": "https://localhost:8080/"
        },
        "outputId": "64c9f7c2-a1ef-4d94-e59a-99aac33c63f1"
      },
      "execution_count": null,
      "outputs": [
        {
          "output_type": "stream",
          "name": "stdout",
          "text": [
            "CPU times: user 45 µs, sys: 0 ns, total: 45 µs\n",
            "Wall time: 48.9 µs\n"
          ]
        }
      ]
    },
    {
      "cell_type": "markdown",
      "source": [
        "crossentropy, crossentropywithlogits"
      ],
      "metadata": {
        "id": "AcQyX4oHEAuQ"
      }
    },
    {
      "cell_type": "code",
      "source": [
        "from transformers import AdamW, get_linear_schedule_with_warmup\n",
        "\n",
        "def initialize_model(epochs=4):\n",
        "    \"\"\"Initialize the Bert Classifier, the optimizer and the learning rate scheduler.\n",
        "    \"\"\"\n",
        "    # Instantiate Bert Classifier\n",
        "    bert_classifier = BertClassifier(freeze_bert=True)\n",
        "\n",
        "    # Tell PyTorch to run the model on GPU\n",
        "    bert_classifier.to(device)\n",
        "\n",
        "    # Create the optimizer\n",
        "    optimizer = AdamW(bert_classifier.parameters(),\n",
        "                      lr=1e-4,    # Default learning rate\n",
        "                      eps=1e-8    # Default epsilon value\n",
        "                      )\n",
        "\n",
        "    # Total number of training steps\n",
        "    total_steps = len(train_dataloader) * epochs\n",
        "\n",
        "    # Set up the learning rate scheduler\n",
        "    scheduler = get_linear_schedule_with_warmup(optimizer,\n",
        "                                                num_warmup_steps=0, # Default value\n",
        "                                                num_training_steps=total_steps)\n",
        "    return bert_classifier, optimizer, scheduler"
      ],
      "metadata": {
        "id": "NbK667sYvQ2f"
      },
      "execution_count": null,
      "outputs": []
    },
    {
      "cell_type": "markdown",
      "source": [
        "## Train Model"
      ],
      "metadata": {
        "id": "MNeMt1AHwNw4"
      }
    },
    {
      "cell_type": "code",
      "source": [
        "import random\n",
        "import time\n",
        "\n",
        "# Specify loss function\n",
        "loss_fn = nn.CrossEntropyLoss()\n",
        "\n",
        "def set_seed(seed_value=42):\n",
        "    \"\"\"Set seed for reproducibility.\n",
        "    \"\"\"\n",
        "    random.seed(seed_value)\n",
        "    np.random.seed(seed_value)\n",
        "    torch.manual_seed(seed_value)\n",
        "    torch.cuda.manual_seed_all(seed_value)\n",
        "\n",
        "def train(model, train_dataloader, val_dataloader=None, epochs=4, evaluation=False):\n",
        "    \"\"\"Train the BertClassifier model.\n",
        "    \"\"\"\n",
        "    # Start training loop\n",
        "    print(\"Start training...\\n\")\n",
        "    for epoch_i in range(epochs):\n",
        "        # =======================================\n",
        "        #               Training\n",
        "        # =======================================\n",
        "        # Print the header of the result table\n",
        "        print(f\"{'Epoch':^7} | {'Batch':^7} | {'Train Loss':^12} | {'Val Loss':^10} | {'Val Acc':^9} | {'Elapsed':^9}\")\n",
        "        print(\"-\"*70)\n",
        "\n",
        "        # Measure the elapsed time of each epoch\n",
        "        t0_epoch, t0_batch = time.time(), time.time()\n",
        "\n",
        "        # Reset tracking variables at the beginning of each epoch\n",
        "        total_loss, batch_loss, batch_counts = 0, 0, 0\n",
        "\n",
        "        # Put the model into the training mode\n",
        "        model.train()\n",
        "\n",
        "        # For each batch of training data...\n",
        "        for step, batch in enumerate(train_dataloader):\n",
        "            batch_counts +=1\n",
        "            # Load batch to GPU\n",
        "            b_input_ids, b_attn_mask, b_labels = tuple(t.to(device) for t in batch)\n",
        "\n",
        "            # Zero out any previously calculated gradients\n",
        "            model.zero_grad()\n",
        "\n",
        "            # Perform a forward pass. This will return logits.\n",
        "            logits = model(b_input_ids, b_attn_mask)\n",
        "\n",
        "            # Compute loss and accumulate the loss values\n",
        "            # print(logits, b_labels)\n",
        "            loss = loss_fn(logits, b_labels)\n",
        "            batch_loss += loss.item()\n",
        "            total_loss += loss.item()\n",
        "\n",
        "            # Perform a backward pass to calculate gradients\n",
        "            loss.backward()\n",
        "\n",
        "            # Clip the norm of the gradients to 1.0 to prevent \"exploding gradients\"\n",
        "            torch.nn.utils.clip_grad_norm_(model.parameters(), 1.0)\n",
        "\n",
        "            # Update parameters and the learning rate\n",
        "            optimizer.step()\n",
        "            scheduler.step()\n",
        "\n",
        "            # Print the loss values and time elapsed for every 20 batches\n",
        "            if (step % 20 == 0 and step != 0) or (step == len(train_dataloader) - 1):\n",
        "                # Calculate time elapsed for 20 batches\n",
        "                time_elapsed = time.time() - t0_batch\n",
        "\n",
        "                # Print training results\n",
        "                print(f\"{epoch_i + 1:^7} | {step:^7} | {batch_loss / batch_counts:^12.6f} | {'-':^10} | {'-':^9} | {time_elapsed:^9.2f}\")\n",
        "\n",
        "                # Reset batch tracking variables\n",
        "                batch_loss, batch_counts = 0, 0\n",
        "                t0_batch = time.time()\n",
        "\n",
        "        # Calculate the average loss over the entire training data\n",
        "        avg_train_loss = total_loss / len(train_dataloader)\n",
        "\n",
        "        print(\"-\"*70)\n",
        "\n",
        "        if evaluation == True:\n",
        "\n",
        "\n",
        "            val_loss, val_accuracy = evaluate(model, val_dataloader)\n",
        "\n",
        "            time_elapsed = time.time() - t0_epoch\n",
        "            \n",
        "            print(f\"{epoch_i + 1:^7} | {'-':^7} | {avg_train_loss:^12.6f} | {val_loss:^10.6f} | {val_accuracy:^9.2f} | {time_elapsed:^9.2f}\")\n",
        "            print(\"-\"*70)\n",
        "        print(\"\\n\")\n",
        "    \n",
        "    print(\"Training complete!\")\n",
        "\n",
        "\n",
        "def evaluate(model, val_dataloader):\n",
        "    \"\"\"After the completion of each training epoch, measure the model's performance\n",
        "    on our validation set.\n",
        "    \"\"\"\n",
        "    # Put the model into the evaluation mode. The dropout layers are disabled during\n",
        "    # the test time.\n",
        "    model.eval()\n",
        "\n",
        "    # Tracking variables\n",
        "    val_accuracy = []\n",
        "    val_loss = []\n",
        "\n",
        "    # For each batch in our validation set...\n",
        "    for batch in val_dataloader:\n",
        "        # Load batch to GPU\n",
        "        b_input_ids, b_attn_mask, b_labels = tuple(t.to(device) for t in batch)\n",
        "\n",
        "        # Compute logits\n",
        "        with torch.no_grad():\n",
        "            logits = model(b_input_ids, b_attn_mask)\n",
        "\n",
        "        # Compute loss\n",
        "        # print(logits, b_labels)\n",
        "        loss = loss_fn(logits, b_labels)\n",
        "        val_loss.append(loss.item())\n",
        "\n",
        "        # Get the predictions\n",
        "        # preds = torch.argmax(logits, dim=1).flatten()\n",
        "\n",
        "        # Calculate the accuracy rate\n",
        "        accuracy = ((logits>0.5)*1.0 == b_labels).all(dim=1).cpu().numpy().mean() * 100\n",
        "        val_accuracy.append(accuracy)\n",
        "\n",
        "    # Compute the average accuracy and loss over the validation set.\n",
        "    val_loss = np.mean(val_loss)\n",
        "    val_accuracy = np.mean(val_accuracy)\n",
        "\n",
        "    return val_loss, val_accuracy"
      ],
      "metadata": {
        "id": "qYi9guMNv7jZ"
      },
      "execution_count": null,
      "outputs": []
    },
    {
      "cell_type": "code",
      "source": [
        "# for id, mask, label in train_dataloader:\n",
        "#     id, mask, label = [item.to(device) for item in [id, mask, label]]\n",
        "#     logits = bert_classifier(id, mask)\n",
        "#     # print(logits, label)\n",
        "#     loss = loss_fn(logits, b_labels)\n",
        "#     print(loss)\n",
        "#     break"
      ],
      "metadata": {
        "id": "fYndN5kFJTiB"
      },
      "execution_count": null,
      "outputs": []
    },
    {
      "cell_type": "code",
      "source": [
        "set_seed(42)    # Set seed for reproducibility\n",
        "bert_classifier, optimizer, scheduler = initialize_model(epochs=25)\n",
        "train(bert_classifier, train_dataloader, val_dataloader, epochs=25, evaluation=True)"
      ],
      "metadata": {
        "colab": {
          "base_uri": "https://localhost:8080/",
          "height": 1000,
          "referenced_widgets": [
            "ecbf1e2c824b4accac06cc963285c9bd",
            "c70f01c62f524616b1bfef0b36b0017e",
            "5b7f5a8a45f24368ade47c3dc38fdeef",
            "015f6e8b0fea42e2a61b433be2bf9b9c",
            "d01387eaf97c4ea68d20c424c68e0c64",
            "df99871ca5cc4ba2a060f277cd8278ae",
            "72fdaedf274940708746fd864297c5e8",
            "b232c6a407854b3bb0365305ad95ffe8",
            "b87033cb8a0d4e04a04a7cf7f9f7327e",
            "494b028b828f45a38b101f62ae4bbb7c",
            "f311255100914d819dec246de854357e"
          ]
        },
        "id": "iS_2xM4Ae4Oi",
        "outputId": "067e661d-e2f6-487e-c567-bebeae2f721d"
      },
      "execution_count": null,
      "outputs": [
        {
          "output_type": "display_data",
          "data": {
            "text/plain": [
              "Downloading:   0%|          | 0.00/440M [00:00<?, ?B/s]"
            ],
            "application/vnd.jupyter.widget-view+json": {
              "version_major": 2,
              "version_minor": 0,
              "model_id": "ecbf1e2c824b4accac06cc963285c9bd"
            }
          },
          "metadata": {}
        },
        {
          "output_type": "stream",
          "name": "stderr",
          "text": [
            "Some weights of the model checkpoint at bert-base-uncased were not used when initializing BertModel: ['cls.predictions.transform.LayerNorm.weight', 'cls.predictions.decoder.weight', 'cls.seq_relationship.bias', 'cls.predictions.transform.dense.weight', 'cls.predictions.transform.dense.bias', 'cls.predictions.transform.LayerNorm.bias', 'cls.seq_relationship.weight', 'cls.predictions.bias']\n",
            "- This IS expected if you are initializing BertModel from the checkpoint of a model trained on another task or with another architecture (e.g. initializing a BertForSequenceClassification model from a BertForPreTraining model).\n",
            "- This IS NOT expected if you are initializing BertModel from the checkpoint of a model that you expect to be exactly identical (initializing a BertForSequenceClassification model from a BertForSequenceClassification model).\n",
            "/usr/local/lib/python3.7/dist-packages/transformers/optimization.py:310: FutureWarning: This implementation of AdamW is deprecated and will be removed in a future version. Use the PyTorch implementation torch.optim.AdamW instead, or set `no_deprecation_warning=True` to disable this warning\n",
            "  FutureWarning,\n"
          ]
        },
        {
          "output_type": "stream",
          "name": "stdout",
          "text": [
            "Start training...\n",
            "\n",
            " Epoch  |  Batch  |  Train Loss  |  Val Loss  |  Val Acc  |  Elapsed \n",
            "----------------------------------------------------------------------\n",
            "   1    |   20    |   1.406461   |     -      |     -     |   7.71   \n",
            "   1    |   40    |   1.344267   |     -      |     -     |   4.93   \n",
            "   1    |   60    |   1.484607   |     -      |     -     |   5.02   \n",
            "   1    |   80    |   1.499253   |     -      |     -     |   5.01   \n",
            "   1    |   100   |   1.506781   |     -      |     -     |   5.04   \n",
            "   1    |   120   |   1.421890   |     -      |     -     |   5.11   \n",
            "   1    |   140   |   1.454676   |     -      |     -     |   5.11   \n",
            "   1    |   160   |   1.495421   |     -      |     -     |   5.13   \n",
            "   1    |   180   |   1.562110   |     -      |     -     |   5.19   \n",
            "   1    |   200   |   1.384369   |     -      |     -     |   5.25   \n",
            "   1    |   212   |   1.444778   |     -      |     -     |   3.03   \n",
            "----------------------------------------------------------------------\n",
            "   1    |    -    |   1.455120   |  1.446634  |   19.68   |   70.07  \n",
            "----------------------------------------------------------------------\n",
            "\n",
            "\n",
            " Epoch  |  Batch  |  Train Loss  |  Val Loss  |  Val Acc  |  Elapsed \n",
            "----------------------------------------------------------------------\n",
            "   2    |   20    |   1.549544   |     -      |     -     |   5.66   \n",
            "   2    |   40    |   1.493940   |     -      |     -     |   5.46   \n",
            "   2    |   60    |   1.335985   |     -      |     -     |   5.40   \n",
            "   2    |   80    |   1.426210   |     -      |     -     |   5.43   \n",
            "   2    |   100   |   1.391803   |     -      |     -     |   5.49   \n",
            "   2    |   120   |   1.387403   |     -      |     -     |   5.52   \n",
            "   2    |   140   |   1.281776   |     -      |     -     |   5.57   \n",
            "   2    |   160   |   1.537194   |     -      |     -     |   5.61   \n",
            "   2    |   180   |   1.461129   |     -      |     -     |   5.65   \n",
            "   2    |   200   |   1.487129   |     -      |     -     |   5.69   \n",
            "   2    |   212   |   1.550438   |     -      |     -     |   3.26   \n",
            "----------------------------------------------------------------------\n",
            "   2    |    -    |   1.442240   |  1.443522  |   18.75   |   73.50  \n",
            "----------------------------------------------------------------------\n",
            "\n",
            "\n",
            " Epoch  |  Batch  |  Train Loss  |  Val Loss  |  Val Acc  |  Elapsed \n",
            "----------------------------------------------------------------------\n",
            "   3    |   20    |   1.486120   |     -      |     -     |   6.10   \n",
            "   3    |   40    |   1.455306   |     -      |     -     |   5.83   \n",
            "   3    |   60    |   1.557197   |     -      |     -     |   5.84   \n",
            "   3    |   80    |   1.438343   |     -      |     -     |   5.85   \n",
            "   3    |   100   |   1.479768   |     -      |     -     |   5.87   \n",
            "   3    |   120   |   1.369264   |     -      |     -     |   5.87   \n",
            "   3    |   140   |   1.412109   |     -      |     -     |   5.89   \n",
            "   3    |   160   |   1.452931   |     -      |     -     |   5.94   \n",
            "   3    |   180   |   1.407422   |     -      |     -     |   5.95   \n",
            "   3    |   200   |   1.449255   |     -      |     -     |   5.89   \n",
            "   3    |   212   |   1.163010   |     -      |     -     |   3.40   \n",
            "----------------------------------------------------------------------\n",
            "   3    |    -    |   1.434726   |  1.448383  |   19.21   |   77.82  \n",
            "----------------------------------------------------------------------\n",
            "\n",
            "\n",
            " Epoch  |  Batch  |  Train Loss  |  Val Loss  |  Val Acc  |  Elapsed \n",
            "----------------------------------------------------------------------\n",
            "   4    |   20    |   1.411986   |     -      |     -     |   6.35   \n",
            "   4    |   40    |   1.411137   |     -      |     -     |   6.08   \n",
            "   4    |   60    |   1.450038   |     -      |     -     |   6.08   \n",
            "   4    |   80    |   1.482060   |     -      |     -     |   6.08   \n",
            "   4    |   100   |   1.416871   |     -      |     -     |   6.09   \n",
            "   4    |   120   |   1.366899   |     -      |     -     |   6.09   \n",
            "   4    |   140   |   1.395950   |     -      |     -     |   6.09   \n",
            "   4    |   160   |   1.498932   |     -      |     -     |   6.09   \n",
            "   4    |   180   |   1.541743   |     -      |     -     |   6.12   \n",
            "   4    |   200   |   1.395671   |     -      |     -     |   6.14   \n",
            "   4    |   212   |   1.389542   |     -      |     -     |   3.50   \n",
            "----------------------------------------------------------------------\n",
            "   4    |    -    |   1.434330   |  1.450919  |   18.75   |   80.55  \n",
            "----------------------------------------------------------------------\n",
            "\n",
            "\n",
            " Epoch  |  Batch  |  Train Loss  |  Val Loss  |  Val Acc  |  Elapsed \n",
            "----------------------------------------------------------------------\n",
            "   5    |   20    |   1.345830   |     -      |     -     |   6.52   \n",
            "   5    |   40    |   1.521781   |     -      |     -     |   6.26   \n",
            "   5    |   60    |   1.520209   |     -      |     -     |   6.26   \n",
            "   5    |   80    |   1.382930   |     -      |     -     |   6.28   \n",
            "   5    |   100   |   1.417206   |     -      |     -     |   6.28   \n",
            "   5    |   120   |   1.402670   |     -      |     -     |   6.29   \n",
            "   5    |   140   |   1.469761   |     -      |     -     |   6.29   \n",
            "   5    |   160   |   1.405526   |     -      |     -     |   6.28   \n",
            "   5    |   180   |   1.352672   |     -      |     -     |   6.27   \n",
            "   5    |   200   |   1.452475   |     -      |     -     |   6.27   \n",
            "   5    |   212   |   1.572883   |     -      |     -     |   3.60   \n",
            "----------------------------------------------------------------------\n",
            "   5    |    -    |   1.434937   |  1.444341  |   18.06   |   82.67  \n",
            "----------------------------------------------------------------------\n",
            "\n",
            "\n",
            " Epoch  |  Batch  |  Train Loss  |  Val Loss  |  Val Acc  |  Elapsed \n",
            "----------------------------------------------------------------------\n",
            "   6    |   20    |   1.386431   |     -      |     -     |   6.57   \n",
            "   6    |   40    |   1.477920   |     -      |     -     |   6.22   \n",
            "   6    |   60    |   1.365737   |     -      |     -     |   6.20   \n",
            "   6    |   80    |   1.570410   |     -      |     -     |   6.18   \n",
            "   6    |   100   |   1.442408   |     -      |     -     |   6.19   \n",
            "   6    |   120   |   1.441781   |     -      |     -     |   6.20   \n",
            "   6    |   140   |   1.445195   |     -      |     -     |   6.22   \n",
            "   6    |   160   |   1.250447   |     -      |     -     |   6.24   \n",
            "   6    |   180   |   1.560915   |     -      |     -     |   6.23   \n",
            "   6    |   200   |   1.466169   |     -      |     -     |   6.25   \n",
            "   6    |   212   |   1.255947   |     -      |     -     |   3.60   \n",
            "----------------------------------------------------------------------\n",
            "   6    |    -    |   1.430075   |  1.447803  |   17.82   |   82.27  \n",
            "----------------------------------------------------------------------\n",
            "\n",
            "\n",
            " Epoch  |  Batch  |  Train Loss  |  Val Loss  |  Val Acc  |  Elapsed \n",
            "----------------------------------------------------------------------\n",
            "   7    |   20    |   1.566138   |     -      |     -     |   6.60   \n",
            "   7    |   40    |   1.427216   |     -      |     -     |   6.28   \n",
            "   7    |   60    |   1.404896   |     -      |     -     |   6.27   \n",
            "   7    |   80    |   1.490417   |     -      |     -     |   6.25   \n",
            "   7    |   100   |   1.418084   |     -      |     -     |   6.27   \n",
            "   7    |   120   |   1.499707   |     -      |     -     |   6.26   \n",
            "   7    |   140   |   1.433589   |     -      |     -     |   6.26   \n",
            "   7    |   160   |   1.350172   |     -      |     -     |   6.26   \n",
            "   7    |   180   |   1.323735   |     -      |     -     |   6.25   \n",
            "   7    |   200   |   1.428215   |     -      |     -     |   6.23   \n",
            "   7    |   212   |   1.270574   |     -      |     -     |   3.56   \n",
            "----------------------------------------------------------------------\n",
            "   7    |    -    |   1.425617   |  1.450755  |   17.36   |   82.40  \n",
            "----------------------------------------------------------------------\n",
            "\n",
            "\n",
            " Epoch  |  Batch  |  Train Loss  |  Val Loss  |  Val Acc  |  Elapsed \n",
            "----------------------------------------------------------------------\n",
            "   8    |   20    |   1.419722   |     -      |     -     |   6.54   \n",
            "   8    |   40    |   1.361906   |     -      |     -     |   6.24   \n",
            "   8    |   60    |   1.493714   |     -      |     -     |   6.26   \n",
            "   8    |   80    |   1.619580   |     -      |     -     |   6.28   \n",
            "   8    |   100   |   1.473756   |     -      |     -     |   6.28   \n",
            "   8    |   120   |   1.532208   |     -      |     -     |   6.29   \n",
            "   8    |   140   |   1.257969   |     -      |     -     |   6.28   \n",
            "   8    |   160   |   1.290085   |     -      |     -     |   6.27   \n",
            "   8    |   180   |   1.380856   |     -      |     -     |   6.26   \n",
            "   8    |   200   |   1.472709   |     -      |     -     |   6.24   \n",
            "   8    |   212   |   1.339478   |     -      |     -     |   3.59   \n",
            "----------------------------------------------------------------------\n",
            "   8    |    -    |   1.425087   |  1.448254  |   16.90   |   82.59  \n",
            "----------------------------------------------------------------------\n",
            "\n",
            "\n",
            " Epoch  |  Batch  |  Train Loss  |  Val Loss  |  Val Acc  |  Elapsed \n",
            "----------------------------------------------------------------------\n",
            "   9    |   20    |   1.402910   |     -      |     -     |   6.56   \n",
            "   9    |   40    |   1.361322   |     -      |     -     |   6.24   \n",
            "   9    |   60    |   1.324742   |     -      |     -     |   6.18   \n",
            "   9    |   80    |   1.520163   |     -      |     -     |   6.16   \n",
            "   9    |   100   |   1.430879   |     -      |     -     |   6.17   \n",
            "   9    |   120   |   1.516923   |     -      |     -     |   6.21   \n",
            "   9    |   140   |   1.412385   |     -      |     -     |   6.21   \n",
            "   9    |   160   |   1.528810   |     -      |     -     |   6.23   \n",
            "   9    |   180   |   1.337021   |     -      |     -     |   6.23   \n",
            "   9    |   200   |   1.409039   |     -      |     -     |   6.24   \n",
            "   9    |   212   |   1.466558   |     -      |     -     |   3.59   \n",
            "----------------------------------------------------------------------\n",
            "   9    |    -    |   1.426692   |  1.448991  |   17.13   |   82.15  \n",
            "----------------------------------------------------------------------\n",
            "\n",
            "\n",
            " Epoch  |  Batch  |  Train Loss  |  Val Loss  |  Val Acc  |  Elapsed \n",
            "----------------------------------------------------------------------\n",
            "  10    |   20    |   1.337788   |     -      |     -     |   6.61   \n",
            "  10    |   40    |   1.396145   |     -      |     -     |   6.29   \n",
            "  10    |   60    |   1.375170   |     -      |     -     |   6.27   \n",
            "  10    |   80    |   1.564325   |     -      |     -     |   6.27   \n",
            "  10    |   100   |   1.471270   |     -      |     -     |   6.26   \n",
            "  10    |   120   |   1.474932   |     -      |     -     |   6.24   \n",
            "  10    |   140   |   1.360472   |     -      |     -     |   6.21   \n",
            "  10    |   160   |   1.470148   |     -      |     -     |   6.16   \n",
            "  10    |   180   |   1.377356   |     -      |     -     |   6.15   \n",
            "  10    |   200   |   1.392625   |     -      |     -     |   6.16   \n",
            "  10    |   212   |   1.479065   |     -      |     -     |   3.55   \n",
            "----------------------------------------------------------------------\n",
            "  10    |    -    |   1.424841   |  1.455759  |   17.13   |   82.22  \n",
            "----------------------------------------------------------------------\n",
            "\n",
            "\n",
            " Epoch  |  Batch  |  Train Loss  |  Val Loss  |  Val Acc  |  Elapsed \n",
            "----------------------------------------------------------------------\n",
            "  11    |   20    |   1.281663   |     -      |     -     |   6.58   \n",
            "  11    |   40    |   1.477149   |     -      |     -     |   6.28   \n",
            "  11    |   60    |   1.446651   |     -      |     -     |   6.29   \n",
            "  11    |   80    |   1.306109   |     -      |     -     |   6.30   \n",
            "  11    |   100   |   1.455830   |     -      |     -     |   6.29   \n",
            "  11    |   120   |   1.485548   |     -      |     -     |   6.28   \n",
            "  11    |   140   |   1.477212   |     -      |     -     |   6.27   \n",
            "  11    |   160   |   1.488505   |     -      |     -     |   6.26   \n",
            "  11    |   180   |   1.375664   |     -      |     -     |   6.24   \n",
            "  11    |   200   |   1.441887   |     -      |     -     |   6.24   \n",
            "  11    |   212   |   1.439536   |     -      |     -     |   3.58   \n",
            "----------------------------------------------------------------------\n",
            "  11    |    -    |   1.423852   |  1.448500  |   17.82   |   82.54  \n",
            "----------------------------------------------------------------------\n",
            "\n",
            "\n",
            " Epoch  |  Batch  |  Train Loss  |  Val Loss  |  Val Acc  |  Elapsed \n",
            "----------------------------------------------------------------------\n",
            "  12    |   20    |   1.408942   |     -      |     -     |   6.49   \n",
            "  12    |   40    |   1.339454   |     -      |     -     |   6.20   \n",
            "  12    |   60    |   1.409447   |     -      |     -     |   6.22   \n",
            "  12    |   80    |   1.384525   |     -      |     -     |   6.25   \n",
            "  12    |   100   |   1.539745   |     -      |     -     |   6.26   \n",
            "  12    |   120   |   1.415478   |     -      |     -     |   6.28   \n",
            "  12    |   140   |   1.372407   |     -      |     -     |   6.29   \n",
            "  12    |   160   |   1.460133   |     -      |     -     |   6.30   \n",
            "  12    |   180   |   1.386836   |     -      |     -     |   6.30   \n",
            "  12    |   200   |   1.488521   |     -      |     -     |   6.29   \n",
            "  12    |   212   |   1.453245   |     -      |     -     |   3.60   \n",
            "----------------------------------------------------------------------\n",
            "  12    |    -    |   1.422336   |  1.449288  |   16.90   |   82.61  \n",
            "----------------------------------------------------------------------\n",
            "\n",
            "\n",
            " Epoch  |  Batch  |  Train Loss  |  Val Loss  |  Val Acc  |  Elapsed \n",
            "----------------------------------------------------------------------\n",
            "  13    |   20    |   1.380096   |     -      |     -     |   6.61   \n",
            "  13    |   40    |   1.465304   |     -      |     -     |   6.27   \n",
            "  13    |   60    |   1.491127   |     -      |     -     |   6.27   \n",
            "  13    |   80    |   1.347435   |     -      |     -     |   6.23   \n",
            "  13    |   100   |   1.268976   |     -      |     -     |   6.20   \n",
            "  13    |   120   |   1.394669   |     -      |     -     |   6.18   \n",
            "  13    |   140   |   1.527464   |     -      |     -     |   6.18   \n",
            "  13    |   160   |   1.451396   |     -      |     -     |   6.19   \n",
            "  13    |   180   |   1.314319   |     -      |     -     |   6.23   \n",
            "  13    |   200   |   1.582552   |     -      |     -     |   6.22   \n",
            "  13    |   212   |   1.469877   |     -      |     -     |   3.58   \n",
            "----------------------------------------------------------------------\n",
            "  13    |    -    |   1.424814   |  1.449883  |   18.29   |   82.28  \n",
            "----------------------------------------------------------------------\n",
            "\n",
            "\n",
            " Epoch  |  Batch  |  Train Loss  |  Val Loss  |  Val Acc  |  Elapsed \n",
            "----------------------------------------------------------------------\n",
            "  14    |   20    |   1.367783   |     -      |     -     |   6.61   \n",
            "  14    |   40    |   1.417454   |     -      |     -     |   6.29   \n",
            "  14    |   60    |   1.465368   |     -      |     -     |   6.28   \n",
            "  14    |   80    |   1.416855   |     -      |     -     |   6.28   \n",
            "  14    |   100   |   1.520706   |     -      |     -     |   6.28   \n",
            "  14    |   120   |   1.444780   |     -      |     -     |   6.27   \n",
            "  14    |   140   |   1.363965   |     -      |     -     |   6.26   \n",
            "  14    |   160   |   1.392031   |     -      |     -     |   6.26   \n",
            "  14    |   180   |   1.407721   |     -      |     -     |   6.24   \n",
            "  14    |   200   |   1.381340   |     -      |     -     |   6.20   \n",
            "  14    |   212   |   1.467728   |     -      |     -     |   3.55   \n",
            "----------------------------------------------------------------------\n",
            "  14    |    -    |   1.420378   |  1.451108  |   18.52   |   82.49  \n",
            "----------------------------------------------------------------------\n",
            "\n",
            "\n",
            " Epoch  |  Batch  |  Train Loss  |  Val Loss  |  Val Acc  |  Elapsed \n",
            "----------------------------------------------------------------------\n",
            "  15    |   20    |   1.362240   |     -      |     -     |   6.55   \n",
            "  15    |   40    |   1.457425   |     -      |     -     |   6.25   \n",
            "  15    |   60    |   1.417798   |     -      |     -     |   6.24   \n",
            "  15    |   80    |   1.507573   |     -      |     -     |   6.25   \n",
            "  15    |   100   |   1.526031   |     -      |     -     |   6.28   \n",
            "  15    |   120   |   1.342128   |     -      |     -     |   6.29   \n",
            "  15    |   140   |   1.406372   |     -      |     -     |   6.29   \n",
            "  15    |   160   |   1.328624   |     -      |     -     |   6.28   \n",
            "  15    |   180   |   1.462411   |     -      |     -     |   6.28   \n",
            "  15    |   200   |   1.390220   |     -      |     -     |   6.27   \n",
            "  15    |   212   |   1.395986   |     -      |     -     |   3.61   \n",
            "----------------------------------------------------------------------\n",
            "  15    |    -    |   1.418453   |  1.451127  |   18.52   |   82.65  \n",
            "----------------------------------------------------------------------\n",
            "\n",
            "\n",
            " Epoch  |  Batch  |  Train Loss  |  Val Loss  |  Val Acc  |  Elapsed \n",
            "----------------------------------------------------------------------\n",
            "  16    |   20    |   1.434528   |     -      |     -     |   6.50   \n",
            "  16    |   40    |   1.366193   |     -      |     -     |   6.16   \n",
            "  16    |   60    |   1.489994   |     -      |     -     |   6.17   \n",
            "  16    |   80    |   1.506758   |     -      |     -     |   6.19   \n",
            "  16    |   100   |   1.222987   |     -      |     -     |   6.22   \n",
            "  16    |   120   |   1.279031   |     -      |     -     |   6.25   \n",
            "  16    |   140   |   1.458692   |     -      |     -     |   6.27   \n",
            "  16    |   160   |   1.486307   |     -      |     -     |   6.27   \n",
            "  16    |   180   |   1.523360   |     -      |     -     |   6.29   \n",
            "  16    |   200   |   1.475532   |     -      |     -     |   6.29   \n",
            "  16    |   212   |   1.322704   |     -      |     -     |   3.61   \n",
            "----------------------------------------------------------------------\n",
            "  16    |    -    |   1.418660   |  1.450548  |   18.06   |   82.33  \n",
            "----------------------------------------------------------------------\n",
            "\n",
            "\n",
            " Epoch  |  Batch  |  Train Loss  |  Val Loss  |  Val Acc  |  Elapsed \n",
            "----------------------------------------------------------------------\n",
            "  17    |   20    |   1.353555   |     -      |     -     |   6.57   \n",
            "  17    |   40    |   1.453557   |     -      |     -     |   6.24   \n",
            "  17    |   60    |   1.330054   |     -      |     -     |   6.25   \n",
            "  17    |   80    |   1.432294   |     -      |     -     |   6.24   \n",
            "  17    |   100   |   1.440059   |     -      |     -     |   6.23   \n",
            "  17    |   120   |   1.416248   |     -      |     -     |   6.19   \n",
            "  17    |   140   |   1.341325   |     -      |     -     |   6.18   \n",
            "  17    |   160   |   1.390353   |     -      |     -     |   6.17   \n",
            "  17    |   180   |   1.496097   |     -      |     -     |   6.20   \n",
            "  17    |   200   |   1.471051   |     -      |     -     |   6.20   \n",
            "  17    |   212   |   1.481279   |     -      |     -     |   3.58   \n",
            "----------------------------------------------------------------------\n",
            "  17    |    -    |   1.416060   |  1.451686  |   17.82   |   82.08  \n",
            "----------------------------------------------------------------------\n",
            "\n",
            "\n",
            " Epoch  |  Batch  |  Train Loss  |  Val Loss  |  Val Acc  |  Elapsed \n",
            "----------------------------------------------------------------------\n",
            "  18    |   20    |   1.415913   |     -      |     -     |   6.57   \n",
            "  18    |   40    |   1.279707   |     -      |     -     |   6.27   \n",
            "  18    |   60    |   1.356634   |     -      |     -     |   6.29   \n",
            "  18    |   80    |   1.438393   |     -      |     -     |   6.28   \n",
            "  18    |   100   |   1.462496   |     -      |     -     |   6.28   \n",
            "  18    |   120   |   1.423703   |     -      |     -     |   6.27   \n",
            "  18    |   140   |   1.495113   |     -      |     -     |   6.26   \n",
            "  18    |   160   |   1.428394   |     -      |     -     |   6.25   \n",
            "  18    |   180   |   1.319558   |     -      |     -     |   6.23   \n",
            "  18    |   200   |   1.520872   |     -      |     -     |   6.19   \n",
            "  18    |   212   |   1.505050   |     -      |     -     |   3.54   \n",
            "----------------------------------------------------------------------\n",
            "  18    |    -    |   1.419212   |  1.451565  |   17.59   |   82.33  \n",
            "----------------------------------------------------------------------\n",
            "\n",
            "\n",
            " Epoch  |  Batch  |  Train Loss  |  Val Loss  |  Val Acc  |  Elapsed \n",
            "----------------------------------------------------------------------\n",
            "  19    |   20    |   1.424819   |     -      |     -     |   6.54   \n",
            "  19    |   40    |   1.523531   |     -      |     -     |   6.24   \n",
            "  19    |   60    |   1.267810   |     -      |     -     |   6.26   \n",
            "  19    |   80    |   1.346254   |     -      |     -     |   6.26   \n",
            "  19    |   100   |   1.438217   |     -      |     -     |   6.28   \n",
            "  19    |   120   |   1.502050   |     -      |     -     |   6.28   \n",
            "  19    |   140   |   1.499518   |     -      |     -     |   6.28   \n",
            "  19    |   160   |   1.390133   |     -      |     -     |   6.26   \n",
            "  19    |   180   |   1.334349   |     -      |     -     |   6.26   \n",
            "  19    |   200   |   1.474496   |     -      |     -     |   6.26   \n",
            "  19    |   212   |   1.323346   |     -      |     -     |   3.59   \n",
            "----------------------------------------------------------------------\n",
            "  19    |    -    |   1.414688   |  1.451188  |   18.06   |   82.61  \n",
            "----------------------------------------------------------------------\n",
            "\n",
            "\n",
            " Epoch  |  Batch  |  Train Loss  |  Val Loss  |  Val Acc  |  Elapsed \n",
            "----------------------------------------------------------------------\n",
            "  20    |   20    |   1.347330   |     -      |     -     |   6.57   \n",
            "  20    |   40    |   1.341392   |     -      |     -     |   6.24   \n",
            "  20    |   60    |   1.486508   |     -      |     -     |   6.23   \n",
            "  20    |   80    |   1.434240   |     -      |     -     |   6.17   \n",
            "  20    |   100   |   1.390971   |     -      |     -     |   6.17   \n",
            "  20    |   120   |   1.449081   |     -      |     -     |   6.19   \n",
            "  20    |   140   |   1.501655   |     -      |     -     |   6.22   \n",
            "  20    |   160   |   1.402522   |     -      |     -     |   6.24   \n",
            "  20    |   180   |   1.317479   |     -      |     -     |   6.25   \n",
            "  20    |   200   |   1.354464   |     -      |     -     |   6.26   \n",
            "  20    |   212   |   1.643429   |     -      |     -     |   3.59   \n",
            "----------------------------------------------------------------------\n",
            "  20    |    -    |   1.415875   |  1.452198  |   18.06   |   82.32  \n",
            "----------------------------------------------------------------------\n",
            "\n",
            "\n",
            " Epoch  |  Batch  |  Train Loss  |  Val Loss  |  Val Acc  |  Elapsed \n",
            "----------------------------------------------------------------------\n",
            "  21    |   20    |   1.400052   |     -      |     -     |   6.59   \n",
            "  21    |   40    |   1.381072   |     -      |     -     |   6.26   \n",
            "  21    |   60    |   1.394235   |     -      |     -     |   6.27   \n",
            "  21    |   80    |   1.451417   |     -      |     -     |   6.26   \n",
            "  21    |   100   |   1.558382   |     -      |     -     |   6.24   \n",
            "  21    |   120   |   1.330302   |     -      |     -     |   6.23   \n",
            "  21    |   140   |   1.329656   |     -      |     -     |   6.18   \n",
            "  21    |   160   |   1.497634   |     -      |     -     |   6.16   \n",
            "  21    |   180   |   1.274797   |     -      |     -     |   6.17   \n",
            "  21    |   200   |   1.479156   |     -      |     -     |   6.19   \n",
            "  21    |   212   |   1.435179   |     -      |     -     |   3.57   \n",
            "----------------------------------------------------------------------\n",
            "  21    |    -    |   1.411062   |  1.451461  |   17.82   |   82.23  \n",
            "----------------------------------------------------------------------\n",
            "\n",
            "\n",
            " Epoch  |  Batch  |  Train Loss  |  Val Loss  |  Val Acc  |  Elapsed \n",
            "----------------------------------------------------------------------\n",
            "  22    |   20    |   1.443542   |     -      |     -     |   6.61   \n",
            "  22    |   40    |   1.400778   |     -      |     -     |   6.28   \n",
            "  22    |   60    |   1.449130   |     -      |     -     |   6.27   \n",
            "  22    |   80    |   1.228754   |     -      |     -     |   6.27   \n",
            "  22    |   100   |   1.545751   |     -      |     -     |   6.26   \n",
            "  22    |   120   |   1.338924   |     -      |     -     |   6.26   \n",
            "  22    |   140   |   1.522995   |     -      |     -     |   6.27   \n",
            "  22    |   160   |   1.407097   |     -      |     -     |   6.28   \n",
            "  22    |   180   |   1.399860   |     -      |     -     |   6.29   \n",
            "  22    |   200   |   1.450651   |     -      |     -     |   6.28   \n",
            "  22    |   212   |   1.377410   |     -      |     -     |   3.59   \n",
            "----------------------------------------------------------------------\n",
            "  22    |    -    |   1.416536   |  1.451012  |   17.82   |   82.66  \n",
            "----------------------------------------------------------------------\n",
            "\n",
            "\n",
            " Epoch  |  Batch  |  Train Loss  |  Val Loss  |  Val Acc  |  Elapsed \n",
            "----------------------------------------------------------------------\n",
            "  23    |   20    |   1.523061   |     -      |     -     |   6.49   \n",
            "  23    |   40    |   1.317247   |     -      |     -     |   6.18   \n",
            "  23    |   60    |   1.351585   |     -      |     -     |   6.20   \n",
            "  23    |   80    |   1.327246   |     -      |     -     |   6.21   \n",
            "  23    |   100   |   1.228969   |     -      |     -     |   6.24   \n",
            "  23    |   120   |   1.602634   |     -      |     -     |   6.25   \n",
            "  23    |   140   |   1.298392   |     -      |     -     |   6.27   \n",
            "  23    |   160   |   1.303965   |     -      |     -     |   6.29   \n",
            "  23    |   180   |   1.530848   |     -      |     -     |   6.30   \n",
            "  23    |   200   |   1.630769   |     -      |     -     |   6.29   \n",
            "  23    |   212   |   1.508324   |     -      |     -     |   3.61   \n",
            "----------------------------------------------------------------------\n",
            "  23    |    -    |   1.417452   |  1.451322  |   18.06   |   82.44  \n",
            "----------------------------------------------------------------------\n",
            "\n",
            "\n",
            " Epoch  |  Batch  |  Train Loss  |  Val Loss  |  Val Acc  |  Elapsed \n",
            "----------------------------------------------------------------------\n",
            "  24    |   20    |   1.455473   |     -      |     -     |   6.57   \n",
            "  24    |   40    |   1.399595   |     -      |     -     |   6.25   \n",
            "  24    |   60    |   1.356246   |     -      |     -     |   6.22   \n",
            "  24    |   80    |   1.343575   |     -      |     -     |   6.18   \n",
            "  24    |   100   |   1.385870   |     -      |     -     |   6.16   \n",
            "  24    |   120   |   1.519826   |     -      |     -     |   6.19   \n",
            "  24    |   140   |   1.343254   |     -      |     -     |   6.20   \n",
            "  24    |   160   |   1.457319   |     -      |     -     |   6.25   \n",
            "  24    |   180   |   1.387379   |     -      |     -     |   6.26   \n",
            "  24    |   200   |   1.410659   |     -      |     -     |   6.27   \n",
            "  24    |   212   |   1.512735   |     -      |     -     |   3.60   \n",
            "----------------------------------------------------------------------\n",
            "  24    |    -    |   1.412170   |  1.451656  |   17.36   |   82.31  \n",
            "----------------------------------------------------------------------\n",
            "\n",
            "\n",
            " Epoch  |  Batch  |  Train Loss  |  Val Loss  |  Val Acc  |  Elapsed \n",
            "----------------------------------------------------------------------\n",
            "  25    |   20    |   1.270539   |     -      |     -     |   6.58   \n",
            "  25    |   40    |   1.387701   |     -      |     -     |   6.25   \n",
            "  25    |   60    |   1.395624   |     -      |     -     |   6.24   \n",
            "  25    |   80    |   1.422027   |     -      |     -     |   6.25   \n",
            "  25    |   100   |   1.377443   |     -      |     -     |   6.24   \n",
            "  25    |   120   |   1.407276   |     -      |     -     |   6.26   \n",
            "  25    |   140   |   1.491338   |     -      |     -     |   6.24   \n",
            "  25    |   160   |   1.543993   |     -      |     -     |   6.22   \n",
            "  25    |   180   |   1.324199   |     -      |     -     |   6.20   \n",
            "  25    |   200   |   1.543793   |     -      |     -     |   6.18   \n",
            "  25    |   212   |   1.324824   |     -      |     -     |   3.54   \n",
            "----------------------------------------------------------------------\n",
            "  25    |    -    |   1.410550   |  1.451688  |   17.36   |   82.20  \n",
            "----------------------------------------------------------------------\n",
            "\n",
            "\n",
            "Training complete!\n"
          ]
        }
      ]
    },
    {
      "cell_type": "markdown",
      "source": [
        "## Checking the performance on the input dataset"
      ],
      "metadata": {
        "id": "-pryfL5XciWX"
      }
    },
    {
      "cell_type": "code",
      "source": [
        "    train_set_predictions = []\n",
        "    train_set_labels = []\n",
        "    train_acc = []\n",
        "    for batch in train_dataloader:\n",
        "        # Load batch to GPU\n",
        "        b_input_ids, b_attn_mask, b_labels = tuple(t.to(device) for t in batch)\n",
        "        # Compute logits\n",
        "        with torch.no_grad():\n",
        "            logits = bert_classifier(b_input_ids, b_attn_mask)\n",
        "            predictions = (logits>0.5)*1.0\n",
        "            b_acc = (predictions == b_labels).all(dim=1) * 1.0\n",
        "\n",
        "            train_set_labels.extend([i for i in b_labels.to('cpu').numpy()])\n",
        "            train_set_predictions.extend([i for i in predictions.to('cpu').numpy()])\n",
        "        train_acc.append(b_acc.mean().item())\n",
        "\n"
      ],
      "metadata": {
        "id": "q4y8dWAzilsh"
      },
      "execution_count": null,
      "outputs": []
    },
    {
      "cell_type": "code",
      "source": [
        "train_set_labels = np.array(train_set_labels)\n",
        "train_set_predictions = np.array(train_set_predictions)"
      ],
      "metadata": {
        "id": "9nASNvr8L4Qp"
      },
      "execution_count": null,
      "outputs": []
    },
    {
      "cell_type": "code",
      "source": [
        "unique, counts = np.unique(train_set_predictions[:, 1], return_counts=True)\n",
        "print(np.asarray((unique, counts)).T)"
      ],
      "metadata": {
        "colab": {
          "base_uri": "https://localhost:8080/"
        },
        "id": "KIRBcUMoMEyA",
        "outputId": "398fbac2-3c6e-4e2e-81b4-b92b1b4893b8"
      },
      "execution_count": null,
      "outputs": [
        {
          "output_type": "stream",
          "name": "stdout",
          "text": [
            "[[   0. 1700.]]\n"
          ]
        }
      ]
    },
    {
      "cell_type": "code",
      "source": [
        "unique, counts = np.unique(train_set_predictions[:, 2], return_counts=True)\n",
        "print(np.asarray((unique, counts)).T)"
      ],
      "metadata": {
        "colab": {
          "base_uri": "https://localhost:8080/"
        },
        "id": "Zq_0MrXvNReF",
        "outputId": "8587be6a-df5d-43e0-a116-03c2eefa3b05"
      },
      "execution_count": null,
      "outputs": [
        {
          "output_type": "stream",
          "name": "stdout",
          "text": [
            "[[  0. 905.]\n",
            " [  1. 795.]]\n"
          ]
        }
      ]
    },
    {
      "cell_type": "code",
      "source": [
        "unique, counts = np.unique(train_set_predictions[:, 0], return_counts=True)\n",
        "print(np.asarray((unique, counts)).T)"
      ],
      "metadata": {
        "colab": {
          "base_uri": "https://localhost:8080/"
        },
        "id": "yoTJJEZ8Ftyn",
        "outputId": "0f323a90-dd3e-4345-dd4d-d535864cc0a7"
      },
      "execution_count": null,
      "outputs": [
        {
          "output_type": "stream",
          "name": "stdout",
          "text": [
            "[[   0. 1700.]]\n"
          ]
        }
      ]
    },
    {
      "cell_type": "code",
      "source": [
        "unique, counts = np.unique(train_set_labels[:, 2], return_counts=True)\n",
        "print(np.asarray((unique, counts)).T)"
      ],
      "metadata": {
        "colab": {
          "base_uri": "https://localhost:8080/"
        },
        "id": "WjrEcHTgRpha",
        "outputId": "47702690-1bb9-4e35-e16e-0c78f0f543d5"
      },
      "execution_count": null,
      "outputs": [
        {
          "output_type": "stream",
          "name": "stdout",
          "text": [
            "[[0.000e+00 5.640e+02]\n",
            " [1.000e+00 1.136e+03]]\n"
          ]
        }
      ]
    },
    {
      "cell_type": "code",
      "source": [
        "np.mean(train_acc)"
      ],
      "metadata": {
        "colab": {
          "base_uri": "https://localhost:8080/"
        },
        "id": "zFG8jiEYX7cs",
        "outputId": "70d02689-bcd8-488a-d88c-fd5c70a6d75e"
      },
      "execution_count": null,
      "outputs": [
        {
          "output_type": "execute_result",
          "data": {
            "text/plain": [
              "0.21889671361502347"
            ]
          },
          "metadata": {},
          "execution_count": 31
        }
      ]
    },
    {
      "cell_type": "code",
      "source": [
        "validation_set_predictions = []\n",
        "validation_set_labels = []\n",
        "valid_acc = []\n",
        "for batch in val_dataloader:\n",
        "    # Load batch to GPU\n",
        "    b_input_ids, b_attn_mask, b_labels = tuple(t.to(device) for t in batch)\n",
        "    validation_set_labels.extend([i for i in b_labels.to('cpu').numpy()])\n",
        "    # Compute logits\n",
        "    with torch.no_grad():\n",
        "        logits = bert_classifier(b_input_ids, b_attn_mask)\n",
        "        predictions = (logits>0.5)*1.0\n",
        "        b_acc = (predictions == b_labels).all(dim=1) * 1.0\n",
        "    validation_set_predictions.extend([i for i in predictions.to('cpu').numpy()])\n",
        "    valid_acc.append(b_acc.mean().item())"
      ],
      "metadata": {
        "id": "TIyj20hgc2BE"
      },
      "execution_count": null,
      "outputs": []
    },
    {
      "cell_type": "code",
      "source": [
        "np.mean(valid_acc)"
      ],
      "metadata": {
        "colab": {
          "base_uri": "https://localhost:8080/"
        },
        "id": "quiy9XVbl467",
        "outputId": "93701838-0bed-43e6-b536-01cbd61ff4cf"
      },
      "execution_count": null,
      "outputs": [
        {
          "output_type": "execute_result",
          "data": {
            "text/plain": [
              "0.1736111111111111"
            ]
          },
          "metadata": {},
          "execution_count": 33
        }
      ]
    },
    {
      "cell_type": "markdown",
      "source": [
        "## Evaluations using scikit learn"
      ],
      "metadata": {
        "id": "KljvpGxUvgMk"
      }
    },
    {
      "cell_type": "code",
      "source": [
        "validation_set_predictions =  np.array(validation_set_predictions)"
      ],
      "metadata": {
        "id": "syDYmuiYrL-F"
      },
      "execution_count": null,
      "outputs": []
    },
    {
      "cell_type": "code",
      "source": [
        "validation_set_labels = np.array(validation_set_labels)"
      ],
      "metadata": {
        "id": "qfgHyMLquhjd"
      },
      "execution_count": null,
      "outputs": []
    },
    {
      "cell_type": "code",
      "source": [
        "df.columns"
      ],
      "metadata": {
        "colab": {
          "base_uri": "https://localhost:8080/"
        },
        "id": "qbAyFbbbvJvr",
        "outputId": "bf5f77a4-4b82-4ac1-f1e4-19aa79431b77"
      },
      "execution_count": null,
      "outputs": [
        {
          "output_type": "execute_result",
          "data": {
            "text/plain": [
              "Index(['Question_Combined', 'network_support', 'emotional_esteem',\n",
              "       'informational_tangible'],\n",
              "      dtype='object')"
            ]
          },
          "metadata": {},
          "execution_count": 36
        }
      ]
    },
    {
      "cell_type": "code",
      "source": [
        "network_support_label = validation_set_labels[:, 0]\n",
        "emotional_esteem_label = validation_set_labels[:, 1]\n",
        "informational_tangible_label = validation_set_labels[:, 2]"
      ],
      "metadata": {
        "id": "uGCV8MFbuneZ"
      },
      "execution_count": null,
      "outputs": []
    },
    {
      "cell_type": "code",
      "source": [
        "network_support_predictions = validation_set_predictions[:, 0]\n",
        "emotional_esteem_predictions = validation_set_predictions[:, 1]\n",
        "informational_tangible_predictions = validation_set_predictions[:, 2]"
      ],
      "metadata": {
        "id": "JrQbgepWvBZN"
      },
      "execution_count": null,
      "outputs": []
    },
    {
      "cell_type": "code",
      "source": [
        "from sklearn.metrics import classification_report\n",
        "\n",
        "print(classification_report(network_support_label, network_support_predictions))"
      ],
      "metadata": {
        "colab": {
          "base_uri": "https://localhost:8080/"
        },
        "id": "H9WSX1uyvdiE",
        "outputId": "f691dbff-cd12-4402-a0a4-899effd95a33"
      },
      "execution_count": null,
      "outputs": [
        {
          "output_type": "stream",
          "name": "stdout",
          "text": [
            "              precision    recall  f1-score   support\n",
            "\n",
            "         0.0       0.58      1.00      0.73       247\n",
            "         1.0       0.00      0.00      0.00       179\n",
            "\n",
            "    accuracy                           0.58       426\n",
            "   macro avg       0.29      0.50      0.37       426\n",
            "weighted avg       0.34      0.58      0.43       426\n",
            "\n"
          ]
        },
        {
          "output_type": "stream",
          "name": "stderr",
          "text": [
            "/usr/local/lib/python3.7/dist-packages/sklearn/metrics/_classification.py:1318: UndefinedMetricWarning: Precision and F-score are ill-defined and being set to 0.0 in labels with no predicted samples. Use `zero_division` parameter to control this behavior.\n",
            "  _warn_prf(average, modifier, msg_start, len(result))\n",
            "/usr/local/lib/python3.7/dist-packages/sklearn/metrics/_classification.py:1318: UndefinedMetricWarning: Precision and F-score are ill-defined and being set to 0.0 in labels with no predicted samples. Use `zero_division` parameter to control this behavior.\n",
            "  _warn_prf(average, modifier, msg_start, len(result))\n",
            "/usr/local/lib/python3.7/dist-packages/sklearn/metrics/_classification.py:1318: UndefinedMetricWarning: Precision and F-score are ill-defined and being set to 0.0 in labels with no predicted samples. Use `zero_division` parameter to control this behavior.\n",
            "  _warn_prf(average, modifier, msg_start, len(result))\n"
          ]
        }
      ]
    },
    {
      "cell_type": "code",
      "source": [
        "print(classification_report(emotional_esteem_label, emotional_esteem_predictions))"
      ],
      "metadata": {
        "colab": {
          "base_uri": "https://localhost:8080/"
        },
        "id": "pXoG2Cq1wJSN",
        "outputId": "69fd4292-6d82-462a-fc6a-f0cb0a6d890b"
      },
      "execution_count": null,
      "outputs": [
        {
          "output_type": "stream",
          "name": "stdout",
          "text": [
            "              precision    recall  f1-score   support\n",
            "\n",
            "         0.0       0.69      1.00      0.82       296\n",
            "         1.0       0.00      0.00      0.00       130\n",
            "\n",
            "    accuracy                           0.69       426\n",
            "   macro avg       0.35      0.50      0.41       426\n",
            "weighted avg       0.48      0.69      0.57       426\n",
            "\n"
          ]
        },
        {
          "output_type": "stream",
          "name": "stderr",
          "text": [
            "/usr/local/lib/python3.7/dist-packages/sklearn/metrics/_classification.py:1318: UndefinedMetricWarning: Precision and F-score are ill-defined and being set to 0.0 in labels with no predicted samples. Use `zero_division` parameter to control this behavior.\n",
            "  _warn_prf(average, modifier, msg_start, len(result))\n",
            "/usr/local/lib/python3.7/dist-packages/sklearn/metrics/_classification.py:1318: UndefinedMetricWarning: Precision and F-score are ill-defined and being set to 0.0 in labels with no predicted samples. Use `zero_division` parameter to control this behavior.\n",
            "  _warn_prf(average, modifier, msg_start, len(result))\n",
            "/usr/local/lib/python3.7/dist-packages/sklearn/metrics/_classification.py:1318: UndefinedMetricWarning: Precision and F-score are ill-defined and being set to 0.0 in labels with no predicted samples. Use `zero_division` parameter to control this behavior.\n",
            "  _warn_prf(average, modifier, msg_start, len(result))\n"
          ]
        }
      ]
    },
    {
      "cell_type": "code",
      "source": [
        "print(classification_report(informational_tangible_label, informational_tangible_predictions))"
      ],
      "metadata": {
        "colab": {
          "base_uri": "https://localhost:8080/"
        },
        "id": "Em_24h2DwOpe",
        "outputId": "7bac6683-19b4-480a-f0e0-f20f71d6c582"
      },
      "execution_count": null,
      "outputs": [
        {
          "output_type": "stream",
          "name": "stdout",
          "text": [
            "              precision    recall  f1-score   support\n",
            "\n",
            "         0.0       0.30      0.45      0.36       146\n",
            "         1.0       0.61      0.45      0.52       280\n",
            "\n",
            "    accuracy                           0.45       426\n",
            "   macro avg       0.45      0.45      0.44       426\n",
            "weighted avg       0.50      0.45      0.46       426\n",
            "\n"
          ]
        }
      ]
    },
    {
      "cell_type": "code",
      "source": [
        "unique, counts = np.unique(informational_tangible_label, return_counts=True)\n",
        "print(np.asarray((unique, counts)).T)"
      ],
      "metadata": {
        "id": "JJxiKr5rzb52",
        "colab": {
          "base_uri": "https://localhost:8080/"
        },
        "outputId": "99f96a59-d75c-45de-f040-d616483bfcf9"
      },
      "execution_count": null,
      "outputs": [
        {
          "output_type": "stream",
          "name": "stdout",
          "text": [
            "[[  0. 146.]\n",
            " [  1. 280.]]\n"
          ]
        }
      ]
    },
    {
      "cell_type": "code",
      "source": [],
      "metadata": {
        "id": "15gH6MtEIPxp"
      },
      "execution_count": null,
      "outputs": []
    }
  ]
}